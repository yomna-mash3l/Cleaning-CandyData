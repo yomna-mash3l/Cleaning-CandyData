{
  "cells": [
    {
      "cell_type": "markdown",
      "metadata": {
        "id": "8wLy9tdOYgxY"
      },
      "source": [
        "# Project: cleanning - [candy data]\n",
        "\n",
        "\n",
        "## Table of Contents\n",
        "<ul>\n",
        "<li><a href=\"#intro\">Introduction</a></li>\n",
        "<li><a href=\"#wrangling\">wrangling</a></li>\n",
        "  \n",
        "</ul>"
      ]
    },
    {
      "cell_type": "markdown",
      "metadata": {
        "id": "vR5yb6x1Ygxe"
      },
      "source": [
        "<a id='intro'></a>\n",
        "## Introduction\n",
        "\n",
        "### Dataset Description \n",
        "\n",
        "> i will go through candy data 2017 , this data has :\n",
        "- Internal_ID\n",
        "- Q1-Going Out?: Are you actually going trick or treating yourself? \"has values `Yes or No`\"\n",
        "- Q2-Gender: It has four different options, `Femal ,Male ,Other ,I'd rather not say`\n",
        "- Q3-Age: Numerical field\n",
        "- Q4-Country: Text Field, but users have written their own version of the names. Example, for America, there are entries such as USA, us, US, America so we should consider that while cleanning\n",
        "- Q5-State/Province: Text Field, but users have written their own version of the names. Same as the country data.\n",
        "- Q6-Joy Or Despair: All kinds of chocolate bars are the questions with three distinct options to choose from (Joy, Meh, Despair).\n",
        "- Q7-Joy Other: Text Field to write items not included above that give you JOY. Lots of missing values.\n",
        "- Q8-Despair Other: Text Field ti write items not included above that give you DESPAIR. Lots of missing values.\n",
        "- Q9-Other Comments: Text Field. Lots of missing values.\n",
        "- Q10-Dress: Binary field. Missing values present\n",
        "- Unnamed: 113\n",
        "- Q11-Day: Binary Answer Field. Missing values present\n"
      ]
    },
    {
      "cell_type": "markdown",
      "metadata": {
        "id": "7y8kM0X8Ygxf"
      },
      "source": [
        "# 1- import packages and load data"
      ]
    },
    {
      "cell_type": "code",
      "execution_count": 1,
      "metadata": {
        "id": "MGdMpmclYgxg"
      },
      "outputs": [],
      "source": [
        "import pandas as pd\n",
        "import numpy as np\n",
        "import matplotlib.pyplot as plt\n",
        "import seaborn as sns\n",
        "pd.set_option('display.max_columns',None)"
      ]
    },
    {
      "cell_type": "code",
      "execution_count": 2,
      "metadata": {
        "colab": {
          "base_uri": "https://localhost:8080/"
        },
        "id": "vbJMhuj_aNm-",
        "outputId": "0ed20547-8099-4845-aa1a-cfbf2130bc18"
      },
      "outputs": [
        {
          "output_type": "stream",
          "name": "stderr",
          "text": [
            "/usr/local/lib/python3.8/dist-packages/openpyxl/worksheet/_reader.py:312: UserWarning: Unknown extension is not supported and will be removed\n",
            "  warn(msg)\n"
          ]
        }
      ],
      "source": [
        "df=pd.read_excel(\"candyhierarchy2017.xlsx\")"
      ]
    },
    {
      "cell_type": "markdown",
      "metadata": {
        "id": "KdH7Cy7NYgxh"
      },
      "source": [
        "<a id='wrangling'></a>\n",
        "## Data Wrangling\n",
        "\n",
        "\n",
        "\n",
        "### General Properties"
      ]
    },
    {
      "cell_type": "markdown",
      "metadata": {
        "id": "89iKITkmYgxh"
      },
      "source": [
        "# 2- show some general properties for the data "
      ]
    },
    {
      "cell_type": "code",
      "execution_count": 3,
      "metadata": {
        "colab": {
          "base_uri": "https://localhost:8080/"
        },
        "id": "gA4r-VLoYgxi",
        "outputId": "90130193-b49b-4659-b042-46f86b5e5b0f"
      },
      "outputs": [
        {
          "output_type": "execute_result",
          "data": {
            "text/plain": [
              "(2460, 120)"
            ]
          },
          "metadata": {},
          "execution_count": 3
        }
      ],
      "source": [
        "df.shape"
      ]
    },
    {
      "cell_type": "code",
      "execution_count": 4,
      "metadata": {
        "colab": {
          "base_uri": "https://localhost:8080/",
          "height": 722
        },
        "id": "cpUr7RbSYgxk",
        "outputId": "89bced46-01e0-45a4-a53a-8550cc00be28"
      },
      "outputs": [
        {
          "output_type": "execute_result",
          "data": {
            "text/plain": [
              "   Internal ID Q1: GOING OUT? Q2: GENDER Q3: AGE Q4: COUNTRY  \\\n",
              "0     90258773            NaN        NaN     NaN         NaN   \n",
              "1     90272821             No       Male      44        USA    \n",
              "2     90272829            NaN       Male      49         USA   \n",
              "3     90272840             No       Male      40          us   \n",
              "4     90272841             No       Male      23         usa   \n",
              "\n",
              "  Q5: STATE, PROVINCE, COUNTY, ETC Q6 | 100 Grand Bar  \\\n",
              "0                              NaN                NaN   \n",
              "1                               NM                MEH   \n",
              "2                         Virginia                NaN   \n",
              "3                               or                MEH   \n",
              "4                         exton pa                JOY   \n",
              "\n",
              "  Q6 | Anonymous brown globs that come in black and orange wrappers\\t(a.k.a. Mary Janes)  \\\n",
              "0                                                NaN                                       \n",
              "1                                            DESPAIR                                       \n",
              "2                                                NaN                                       \n",
              "3                                            DESPAIR                                       \n",
              "4                                            DESPAIR                                       \n",
              "\n",
              "  Q6 | Any full-sized candy bar Q6 | Black Jacks Q6 | Bonkers (the candy)  \\\n",
              "0                           NaN              NaN                      NaN   \n",
              "1                           JOY              MEH                  DESPAIR   \n",
              "2                           NaN              NaN                      NaN   \n",
              "3                           JOY              MEH                      MEH   \n",
              "4                           JOY          DESPAIR                      MEH   \n",
              "\n",
              "  Q6 | Bonkers (the board game) Q6 | Bottle Caps Q6 | Box'o'Raisins  \\\n",
              "0                           NaN              NaN                NaN   \n",
              "1                       DESPAIR          DESPAIR            DESPAIR   \n",
              "2                           NaN              NaN                NaN   \n",
              "3                       DESPAIR              MEH            DESPAIR   \n",
              "4                       DESPAIR              MEH            DESPAIR   \n",
              "\n",
              "  Q6 | Broken glow stick Q6 | Butterfinger Q6 | Cadbury Creme Eggs  \\\n",
              "0                    NaN               NaN                     NaN   \n",
              "1                DESPAIR           DESPAIR                     MEH   \n",
              "2                    NaN               NaN                     NaN   \n",
              "3                DESPAIR               MEH                     MEH   \n",
              "4                DESPAIR               MEH                     MEH   \n",
              "\n",
              "  Q6 | Candy Corn  \\\n",
              "0             NaN   \n",
              "1             MEH   \n",
              "2             NaN   \n",
              "3         DESPAIR   \n",
              "4         DESPAIR   \n",
              "\n",
              "  Q6 | Candy that is clearly just the stuff given out for free at restaurants  \\\n",
              "0                                                NaN                            \n",
              "1                                            DESPAIR                            \n",
              "2                                                NaN                            \n",
              "3                                            DESPAIR                            \n",
              "4                                            DESPAIR                            \n",
              "\n",
              "  Q6 | Caramellos Q6 | Cash, or other forms of legal tender Q6 | Chardonnay  \\\n",
              "0             NaN                                       NaN             NaN   \n",
              "1             MEH                                       JOY             MEH   \n",
              "2             NaN                                       NaN             NaN   \n",
              "3             MEH                                       JOY             MEH   \n",
              "4             JOY                                       MEH             JOY   \n",
              "\n",
              "  Q6 | Chick-o-Sticks (we don’t know what that is) Q6 | Chiclets  \\\n",
              "0                                              NaN           NaN   \n",
              "1                                          DESPAIR       DESPAIR   \n",
              "2                                              NaN           NaN   \n",
              "3                                              JOY           MEH   \n",
              "4                                          DESPAIR       DESPAIR   \n",
              "\n",
              "  Q6 | Coffee Crisp Q6 | Creepy Religious comics/Chick Tracts  \\\n",
              "0               NaN                                       NaN   \n",
              "1           DESPAIR                                   DESPAIR   \n",
              "2               NaN                                       NaN   \n",
              "3           DESPAIR                                   DESPAIR   \n",
              "4               MEH                                   DESPAIR   \n",
              "\n",
              "  Q6 | Dental paraphenalia Q6 | Dots Q6 | Dove Bars Q6 | Fuzzy Peaches  \\\n",
              "0                      NaN       NaN            NaN                NaN   \n",
              "1                  DESPAIR       MEH            JOY            DESPAIR   \n",
              "2                      NaN       NaN            NaN                NaN   \n",
              "3                  DESPAIR       JOY            JOY                MEH   \n",
              "4                  DESPAIR       MEH            JOY            DESPAIR   \n",
              "\n",
              "  Q6 | Generic Brand Acetaminophen Q6 | Glow sticks Q6 | Goo Goo Clusters  \\\n",
              "0                              NaN              NaN                   NaN   \n",
              "1                          DESPAIR          DESPAIR               DESPAIR   \n",
              "2                              NaN              NaN                   NaN   \n",
              "3                              MEH              JOY                   JOY   \n",
              "4                          DESPAIR          DESPAIR                   MEH   \n",
              "\n",
              "  Q6 | Good N' Plenty Q6 | Gum from baseball cards  \\\n",
              "0                 NaN                          NaN   \n",
              "1                 MEH                      DESPAIR   \n",
              "2                 NaN                          NaN   \n",
              "3                 MEH                      DESPAIR   \n",
              "4                 MEH                      DESPAIR   \n",
              "\n",
              "  Q6 | Gummy Bears straight up Q6 | Hard Candy Q6 | Healthy Fruit  \\\n",
              "0                          NaN             NaN                NaN   \n",
              "1                          MEH             MEH            DESPAIR   \n",
              "2                          NaN             NaN                NaN   \n",
              "3                          JOY             MEH                MEH   \n",
              "4                          JOY             MEH            DESPAIR   \n",
              "\n",
              "  Q6 | Heath Bar Q6 | Hershey's Dark Chocolate Q6 | Hershey’s Milk Chocolate  \\\n",
              "0            NaN                           NaN                           NaN   \n",
              "1            MEH                           JOY                           JOY   \n",
              "2            NaN                           NaN                           NaN   \n",
              "3        DESPAIR                           MEH                           MEH   \n",
              "4        DESPAIR                           JOY                           MEH   \n",
              "\n",
              "  Q6 | Hershey's Kisses Q6 | Hugs (actual physical hugs)  \\\n",
              "0                   NaN                              NaN   \n",
              "1                   MEH                          DESPAIR   \n",
              "2                   NaN                              NaN   \n",
              "3                   MEH                              MEH   \n",
              "4                   MEH                          DESPAIR   \n",
              "\n",
              "  Q6 | Jolly Rancher (bad flavor) Q6 | Jolly Ranchers (good flavor)  \\\n",
              "0                             NaN                               NaN   \n",
              "1                         DESPAIR                               MEH   \n",
              "2                             NaN                               NaN   \n",
              "3                             MEH                               MEH   \n",
              "4                             MEH                               JOY   \n",
              "\n",
              "  Q6 | JoyJoy (Mit Iodine!) Q6 | Junior Mints Q6 | Senior Mints  \\\n",
              "0                       NaN               NaN               NaN   \n",
              "1                   DESPAIR           DESPAIR           DESPAIR   \n",
              "2                       NaN               NaN               NaN   \n",
              "3                   DESPAIR           DESPAIR           DESPAIR   \n",
              "4                       MEH               JOY           DESPAIR   \n",
              "\n",
              "  Q6 | Kale smoothie Q6 | Kinder Happy Hippo Q6 | Kit Kat Q6 | LaffyTaffy  \\\n",
              "0                NaN                     NaN          NaN             NaN   \n",
              "1            DESPAIR                 DESPAIR          JOY         DESPAIR   \n",
              "2                NaN                     NaN          NaN             NaN   \n",
              "3            DESPAIR                     MEH          MEH             JOY   \n",
              "4            DESPAIR                     JOY          JOY             JOY   \n",
              "\n",
              "  Q6 | LemonHeads Q6 | Licorice (not black) Q6 | Licorice (yes black)  \\\n",
              "0             NaN                       NaN                       NaN   \n",
              "1             MEH                       MEH                       JOY   \n",
              "2             NaN                       NaN                       NaN   \n",
              "3             JOY                       MEH                       JOY   \n",
              "4             JOY                       MEH                   DESPAIR   \n",
              "\n",
              "  Q6 | Lindt Truffle Q6 | Lollipops Q6 | Mars Q6 | Maynards Q6 | Mike and Ike  \\\n",
              "0                NaN            NaN       NaN           NaN               NaN   \n",
              "1                MEH        DESPAIR   DESPAIR       DESPAIR               MEH   \n",
              "2                NaN            NaN       NaN           NaN               NaN   \n",
              "3                JOY        DESPAIR       JOY           MEH               MEH   \n",
              "4                JOY            MEH       MEH       DESPAIR               MEH   \n",
              "\n",
              "  Q6 | Milk Duds Q6 | Milky Way Q6 | Regular M&Ms Q6 | Peanut M&M’s  \\\n",
              "0            NaN            NaN               NaN               NaN   \n",
              "1            MEH            JOY               JOY               MEH   \n",
              "2            NaN            NaN               NaN               NaN   \n",
              "3        DESPAIR            JOY               MEH               JOY   \n",
              "4            MEH            JOY               JOY               JOY   \n",
              "\n",
              "  Q6 | Blue M&M's Q6 | Red M&M's Q6 | Green Party M&M's  \\\n",
              "0             NaN            NaN                    NaN   \n",
              "1             JOY            JOY                    JOY   \n",
              "2             NaN            NaN                    NaN   \n",
              "3             MEH            MEH                    MEH   \n",
              "4             JOY            JOY                    JOY   \n",
              "\n",
              "  Q6 | Independent M&M's Q6 | Abstained from M&M'ing. Q6 | Minibags of chips  \\\n",
              "0                    NaN                          NaN                    NaN   \n",
              "1                    JOY                      DESPAIR                DESPAIR   \n",
              "2                    NaN                          NaN                    NaN   \n",
              "3                    MEH                          MEH                DESPAIR   \n",
              "4                    JOY                          MEH                DESPAIR   \n",
              "\n",
              "  Q6 | Mint Kisses Q6 | Mint Juleps Q6 | Mr. Goodbar Q6 | Necco Wafers  \\\n",
              "0              NaN              NaN              NaN               NaN   \n",
              "1              MEH          DESPAIR          DESPAIR           DESPAIR   \n",
              "2              NaN              NaN              NaN               NaN   \n",
              "3          DESPAIR              MEH              MEH           DESPAIR   \n",
              "4              JOY              JOY              MEH           DESPAIR   \n",
              "\n",
              "  Q6 | Nerds Q6 | Nestle Crunch Q6 | Now'n'Laters Q6 | Peeps Q6 | Pencils  \\\n",
              "0        NaN                NaN               NaN        NaN          NaN   \n",
              "1    DESPAIR                JOY           DESPAIR    DESPAIR      DESPAIR   \n",
              "2        NaN                NaN               NaN        NaN          NaN   \n",
              "3        MEH                MEH               MEH    DESPAIR      DESPAIR   \n",
              "4        JOY                JOY               JOY        MEH      DESPAIR   \n",
              "\n",
              "  Q6 | Pixy Stix Q6 | Real Housewives of Orange County Season 9 Blue-Ray  \\\n",
              "0            NaN                                                NaN        \n",
              "1        DESPAIR                                            DESPAIR        \n",
              "2            NaN                                                NaN        \n",
              "3        DESPAIR                                            DESPAIR        \n",
              "4            JOY                                            DESPAIR        \n",
              "\n",
              "  Q6 | Reese’s Peanut Butter Cups Q6 | Reese's Pieces Q6 | Reggie Jackson Bar  \\\n",
              "0                             NaN                 NaN                     NaN   \n",
              "1                             JOY                 JOY                 DESPAIR   \n",
              "2                             NaN                 NaN                     NaN   \n",
              "3                             JOY                 MEH                     MEH   \n",
              "4                             JOY                 JOY                     MEH   \n",
              "\n",
              "  Q6 | Rolos Q6 | Sandwich-sized bags filled with BooBerry Crunch  \\\n",
              "0        NaN                                                NaN     \n",
              "1        JOY                                            DESPAIR     \n",
              "2        NaN                                                NaN     \n",
              "3        MEH                                            DESPAIR     \n",
              "4        JOY                                                NaN     \n",
              "\n",
              "  Q6 | Skittles Q6 | Smarties (American) Q6 | Smarties (Commonwealth)  \\\n",
              "0           NaN                      NaN                          NaN   \n",
              "1       DESPAIR                  DESPAIR                      DESPAIR   \n",
              "2           NaN                      NaN                          NaN   \n",
              "3       DESPAIR                  DESPAIR                          MEH   \n",
              "4           JOY                      JOY                      DESPAIR   \n",
              "\n",
              "  Q6 | Snickers Q6 | Sourpatch Kids (i.e. abominations of nature)  \\\n",
              "0           NaN                                               NaN   \n",
              "1           MEH                                           DESPAIR   \n",
              "2           NaN                                               NaN   \n",
              "3           JOY                                               MEH   \n",
              "4           NaN                                               MEH   \n",
              "\n",
              "  Q6 | Spotted Dick Q6 | Starburst Q6 | Sweet Tarts Q6 | Swedish Fish  \\\n",
              "0               NaN            NaN              NaN               NaN   \n",
              "1           DESPAIR            MEH          DESPAIR               MEH   \n",
              "2               NaN            NaN              NaN               NaN   \n",
              "3           DESPAIR            MEH              MEH               JOY   \n",
              "4           DESPAIR            JOY              JOY               MEH   \n",
              "\n",
              "  Q6 | Sweetums (a friend to diabetes) Q6 | Take 5 Q6 | Tic Tacs  \\\n",
              "0                                  NaN         NaN           NaN   \n",
              "1                              DESPAIR     DESPAIR       DESPAIR   \n",
              "2                                  NaN         NaN           NaN   \n",
              "3                                  MEH         JOY           MEH   \n",
              "4                              DESPAIR         MEH       DESPAIR   \n",
              "\n",
              "  Q6 | Those odd marshmallow circus peanut things Q6 | Three Musketeers  \\\n",
              "0                                             NaN                   NaN   \n",
              "1                                         DESPAIR                   JOY   \n",
              "2                                             NaN                   NaN   \n",
              "3                                         DESPAIR               DESPAIR   \n",
              "4                                         DESPAIR                   JOY   \n",
              "\n",
              "  Q6 | Tolberone something or other Q6 | Trail Mix Q6 | Twix  \\\n",
              "0                               NaN            NaN       NaN   \n",
              "1                               JOY        DESPAIR       JOY   \n",
              "2                               NaN            NaN       NaN   \n",
              "3                               JOY            MEH       JOY   \n",
              "4                               JOY        DESPAIR       JOY   \n",
              "\n",
              "  Q6 | Vials of pure high fructose corn syrup, for main-lining into your vein  \\\n",
              "0                                                NaN                            \n",
              "1                                            DESPAIR                            \n",
              "2                                                NaN                            \n",
              "3                                            DESPAIR                            \n",
              "4                                                MEH                            \n",
              "\n",
              "  Q6 | Vicodin Q6 | Whatchamacallit Bars Q6 | White Bread  \\\n",
              "0          NaN                       NaN              NaN   \n",
              "1      DESPAIR                   DESPAIR          DESPAIR   \n",
              "2          NaN                       NaN              NaN   \n",
              "3          JOY                       JOY          DESPAIR   \n",
              "4          JOY                       JOY          DESPAIR   \n",
              "\n",
              "  Q6 | Whole Wheat anything Q6 | York Peppermint Patties  \\\n",
              "0                       NaN                          NaN   \n",
              "1                   DESPAIR                      DESPAIR   \n",
              "2                       NaN                          NaN   \n",
              "3                   DESPAIR                      DESPAIR   \n",
              "4                   DESPAIR                          JOY   \n",
              "\n",
              "                                       Q7: JOY OTHER Q8: DESPAIR OTHER  \\\n",
              "0                                                NaN               NaN   \n",
              "1                                             Mounds               NaN   \n",
              "2                                                NaN               NaN   \n",
              "3  Reese's crispy crunchy bars, 5th avenue bars, ...               NaN   \n",
              "4                                                NaN               NaN   \n",
              "\n",
              "                                  Q9: OTHER COMMENTS      Q10: DRESS  \\\n",
              "0                                                NaN             NaN   \n",
              "1  Bottom line is Twix is really the only candy w...  White and gold   \n",
              "2                                                NaN             NaN   \n",
              "3                             Raisins can go to hell  White and gold   \n",
              "4                                                NaN  White and gold   \n",
              "\n",
              "  Unnamed: 113 Q11: DAY  Q12: MEDIA [Daily Dish]  Q12: MEDIA [Science]  \\\n",
              "0          NaN      NaN                      NaN                   NaN   \n",
              "1          NaN   Sunday                      NaN                   1.0   \n",
              "2          NaN      NaN                      NaN                   NaN   \n",
              "3          NaN   Sunday                      NaN                   1.0   \n",
              "4          NaN   Friday                      NaN                   1.0   \n",
              "\n",
              "   Q12: MEDIA [ESPN]  Q12: MEDIA [Yahoo] Click Coordinates (x, y)  \n",
              "0                NaN                 NaN                      NaN  \n",
              "1                NaN                 NaN                 (84, 25)  \n",
              "2                NaN                 NaN                      NaN  \n",
              "3                NaN                 NaN                 (75, 23)  \n",
              "4                NaN                 NaN                 (70, 10)  "
            ],
            "text/html": [
              "\n",
              "  <div id=\"df-61c04bd5-be45-4106-b6f1-2f70fcda9fb1\">\n",
              "    <div class=\"colab-df-container\">\n",
              "      <div>\n",
              "<style scoped>\n",
              "    .dataframe tbody tr th:only-of-type {\n",
              "        vertical-align: middle;\n",
              "    }\n",
              "\n",
              "    .dataframe tbody tr th {\n",
              "        vertical-align: top;\n",
              "    }\n",
              "\n",
              "    .dataframe thead th {\n",
              "        text-align: right;\n",
              "    }\n",
              "</style>\n",
              "<table border=\"1\" class=\"dataframe\">\n",
              "  <thead>\n",
              "    <tr style=\"text-align: right;\">\n",
              "      <th></th>\n",
              "      <th>Internal ID</th>\n",
              "      <th>Q1: GOING OUT?</th>\n",
              "      <th>Q2: GENDER</th>\n",
              "      <th>Q3: AGE</th>\n",
              "      <th>Q4: COUNTRY</th>\n",
              "      <th>Q5: STATE, PROVINCE, COUNTY, ETC</th>\n",
              "      <th>Q6 | 100 Grand Bar</th>\n",
              "      <th>Q6 | Anonymous brown globs that come in black and orange wrappers\\t(a.k.a. Mary Janes)</th>\n",
              "      <th>Q6 | Any full-sized candy bar</th>\n",
              "      <th>Q6 | Black Jacks</th>\n",
              "      <th>Q6 | Bonkers (the candy)</th>\n",
              "      <th>Q6 | Bonkers (the board game)</th>\n",
              "      <th>Q6 | Bottle Caps</th>\n",
              "      <th>Q6 | Box'o'Raisins</th>\n",
              "      <th>Q6 | Broken glow stick</th>\n",
              "      <th>Q6 | Butterfinger</th>\n",
              "      <th>Q6 | Cadbury Creme Eggs</th>\n",
              "      <th>Q6 | Candy Corn</th>\n",
              "      <th>Q6 | Candy that is clearly just the stuff given out for free at restaurants</th>\n",
              "      <th>Q6 | Caramellos</th>\n",
              "      <th>Q6 | Cash, or other forms of legal tender</th>\n",
              "      <th>Q6 | Chardonnay</th>\n",
              "      <th>Q6 | Chick-o-Sticks (we don’t know what that is)</th>\n",
              "      <th>Q6 | Chiclets</th>\n",
              "      <th>Q6 | Coffee Crisp</th>\n",
              "      <th>Q6 | Creepy Religious comics/Chick Tracts</th>\n",
              "      <th>Q6 | Dental paraphenalia</th>\n",
              "      <th>Q6 | Dots</th>\n",
              "      <th>Q6 | Dove Bars</th>\n",
              "      <th>Q6 | Fuzzy Peaches</th>\n",
              "      <th>Q6 | Generic Brand Acetaminophen</th>\n",
              "      <th>Q6 | Glow sticks</th>\n",
              "      <th>Q6 | Goo Goo Clusters</th>\n",
              "      <th>Q6 | Good N' Plenty</th>\n",
              "      <th>Q6 | Gum from baseball cards</th>\n",
              "      <th>Q6 | Gummy Bears straight up</th>\n",
              "      <th>Q6 | Hard Candy</th>\n",
              "      <th>Q6 | Healthy Fruit</th>\n",
              "      <th>Q6 | Heath Bar</th>\n",
              "      <th>Q6 | Hershey's Dark Chocolate</th>\n",
              "      <th>Q6 | Hershey’s Milk Chocolate</th>\n",
              "      <th>Q6 | Hershey's Kisses</th>\n",
              "      <th>Q6 | Hugs (actual physical hugs)</th>\n",
              "      <th>Q6 | Jolly Rancher (bad flavor)</th>\n",
              "      <th>Q6 | Jolly Ranchers (good flavor)</th>\n",
              "      <th>Q6 | JoyJoy (Mit Iodine!)</th>\n",
              "      <th>Q6 | Junior Mints</th>\n",
              "      <th>Q6 | Senior Mints</th>\n",
              "      <th>Q6 | Kale smoothie</th>\n",
              "      <th>Q6 | Kinder Happy Hippo</th>\n",
              "      <th>Q6 | Kit Kat</th>\n",
              "      <th>Q6 | LaffyTaffy</th>\n",
              "      <th>Q6 | LemonHeads</th>\n",
              "      <th>Q6 | Licorice (not black)</th>\n",
              "      <th>Q6 | Licorice (yes black)</th>\n",
              "      <th>Q6 | Lindt Truffle</th>\n",
              "      <th>Q6 | Lollipops</th>\n",
              "      <th>Q6 | Mars</th>\n",
              "      <th>Q6 | Maynards</th>\n",
              "      <th>Q6 | Mike and Ike</th>\n",
              "      <th>Q6 | Milk Duds</th>\n",
              "      <th>Q6 | Milky Way</th>\n",
              "      <th>Q6 | Regular M&amp;Ms</th>\n",
              "      <th>Q6 | Peanut M&amp;M’s</th>\n",
              "      <th>Q6 | Blue M&amp;M's</th>\n",
              "      <th>Q6 | Red M&amp;M's</th>\n",
              "      <th>Q6 | Green Party M&amp;M's</th>\n",
              "      <th>Q6 | Independent M&amp;M's</th>\n",
              "      <th>Q6 | Abstained from M&amp;M'ing.</th>\n",
              "      <th>Q6 | Minibags of chips</th>\n",
              "      <th>Q6 | Mint Kisses</th>\n",
              "      <th>Q6 | Mint Juleps</th>\n",
              "      <th>Q6 | Mr. Goodbar</th>\n",
              "      <th>Q6 | Necco Wafers</th>\n",
              "      <th>Q6 | Nerds</th>\n",
              "      <th>Q6 | Nestle Crunch</th>\n",
              "      <th>Q6 | Now'n'Laters</th>\n",
              "      <th>Q6 | Peeps</th>\n",
              "      <th>Q6 | Pencils</th>\n",
              "      <th>Q6 | Pixy Stix</th>\n",
              "      <th>Q6 | Real Housewives of Orange County Season 9 Blue-Ray</th>\n",
              "      <th>Q6 | Reese’s Peanut Butter Cups</th>\n",
              "      <th>Q6 | Reese's Pieces</th>\n",
              "      <th>Q6 | Reggie Jackson Bar</th>\n",
              "      <th>Q6 | Rolos</th>\n",
              "      <th>Q6 | Sandwich-sized bags filled with BooBerry Crunch</th>\n",
              "      <th>Q6 | Skittles</th>\n",
              "      <th>Q6 | Smarties (American)</th>\n",
              "      <th>Q6 | Smarties (Commonwealth)</th>\n",
              "      <th>Q6 | Snickers</th>\n",
              "      <th>Q6 | Sourpatch Kids (i.e. abominations of nature)</th>\n",
              "      <th>Q6 | Spotted Dick</th>\n",
              "      <th>Q6 | Starburst</th>\n",
              "      <th>Q6 | Sweet Tarts</th>\n",
              "      <th>Q6 | Swedish Fish</th>\n",
              "      <th>Q6 | Sweetums (a friend to diabetes)</th>\n",
              "      <th>Q6 | Take 5</th>\n",
              "      <th>Q6 | Tic Tacs</th>\n",
              "      <th>Q6 | Those odd marshmallow circus peanut things</th>\n",
              "      <th>Q6 | Three Musketeers</th>\n",
              "      <th>Q6 | Tolberone something or other</th>\n",
              "      <th>Q6 | Trail Mix</th>\n",
              "      <th>Q6 | Twix</th>\n",
              "      <th>Q6 | Vials of pure high fructose corn syrup, for main-lining into your vein</th>\n",
              "      <th>Q6 | Vicodin</th>\n",
              "      <th>Q6 | Whatchamacallit Bars</th>\n",
              "      <th>Q6 | White Bread</th>\n",
              "      <th>Q6 | Whole Wheat anything</th>\n",
              "      <th>Q6 | York Peppermint Patties</th>\n",
              "      <th>Q7: JOY OTHER</th>\n",
              "      <th>Q8: DESPAIR OTHER</th>\n",
              "      <th>Q9: OTHER COMMENTS</th>\n",
              "      <th>Q10: DRESS</th>\n",
              "      <th>Unnamed: 113</th>\n",
              "      <th>Q11: DAY</th>\n",
              "      <th>Q12: MEDIA [Daily Dish]</th>\n",
              "      <th>Q12: MEDIA [Science]</th>\n",
              "      <th>Q12: MEDIA [ESPN]</th>\n",
              "      <th>Q12: MEDIA [Yahoo]</th>\n",
              "      <th>Click Coordinates (x, y)</th>\n",
              "    </tr>\n",
              "  </thead>\n",
              "  <tbody>\n",
              "    <tr>\n",
              "      <th>0</th>\n",
              "      <td>90258773</td>\n",
              "      <td>NaN</td>\n",
              "      <td>NaN</td>\n",
              "      <td>NaN</td>\n",
              "      <td>NaN</td>\n",
              "      <td>NaN</td>\n",
              "      <td>NaN</td>\n",
              "      <td>NaN</td>\n",
              "      <td>NaN</td>\n",
              "      <td>NaN</td>\n",
              "      <td>NaN</td>\n",
              "      <td>NaN</td>\n",
              "      <td>NaN</td>\n",
              "      <td>NaN</td>\n",
              "      <td>NaN</td>\n",
              "      <td>NaN</td>\n",
              "      <td>NaN</td>\n",
              "      <td>NaN</td>\n",
              "      <td>NaN</td>\n",
              "      <td>NaN</td>\n",
              "      <td>NaN</td>\n",
              "      <td>NaN</td>\n",
              "      <td>NaN</td>\n",
              "      <td>NaN</td>\n",
              "      <td>NaN</td>\n",
              "      <td>NaN</td>\n",
              "      <td>NaN</td>\n",
              "      <td>NaN</td>\n",
              "      <td>NaN</td>\n",
              "      <td>NaN</td>\n",
              "      <td>NaN</td>\n",
              "      <td>NaN</td>\n",
              "      <td>NaN</td>\n",
              "      <td>NaN</td>\n",
              "      <td>NaN</td>\n",
              "      <td>NaN</td>\n",
              "      <td>NaN</td>\n",
              "      <td>NaN</td>\n",
              "      <td>NaN</td>\n",
              "      <td>NaN</td>\n",
              "      <td>NaN</td>\n",
              "      <td>NaN</td>\n",
              "      <td>NaN</td>\n",
              "      <td>NaN</td>\n",
              "      <td>NaN</td>\n",
              "      <td>NaN</td>\n",
              "      <td>NaN</td>\n",
              "      <td>NaN</td>\n",
              "      <td>NaN</td>\n",
              "      <td>NaN</td>\n",
              "      <td>NaN</td>\n",
              "      <td>NaN</td>\n",
              "      <td>NaN</td>\n",
              "      <td>NaN</td>\n",
              "      <td>NaN</td>\n",
              "      <td>NaN</td>\n",
              "      <td>NaN</td>\n",
              "      <td>NaN</td>\n",
              "      <td>NaN</td>\n",
              "      <td>NaN</td>\n",
              "      <td>NaN</td>\n",
              "      <td>NaN</td>\n",
              "      <td>NaN</td>\n",
              "      <td>NaN</td>\n",
              "      <td>NaN</td>\n",
              "      <td>NaN</td>\n",
              "      <td>NaN</td>\n",
              "      <td>NaN</td>\n",
              "      <td>NaN</td>\n",
              "      <td>NaN</td>\n",
              "      <td>NaN</td>\n",
              "      <td>NaN</td>\n",
              "      <td>NaN</td>\n",
              "      <td>NaN</td>\n",
              "      <td>NaN</td>\n",
              "      <td>NaN</td>\n",
              "      <td>NaN</td>\n",
              "      <td>NaN</td>\n",
              "      <td>NaN</td>\n",
              "      <td>NaN</td>\n",
              "      <td>NaN</td>\n",
              "      <td>NaN</td>\n",
              "      <td>NaN</td>\n",
              "      <td>NaN</td>\n",
              "      <td>NaN</td>\n",
              "      <td>NaN</td>\n",
              "      <td>NaN</td>\n",
              "      <td>NaN</td>\n",
              "      <td>NaN</td>\n",
              "      <td>NaN</td>\n",
              "      <td>NaN</td>\n",
              "      <td>NaN</td>\n",
              "      <td>NaN</td>\n",
              "      <td>NaN</td>\n",
              "      <td>NaN</td>\n",
              "      <td>NaN</td>\n",
              "      <td>NaN</td>\n",
              "      <td>NaN</td>\n",
              "      <td>NaN</td>\n",
              "      <td>NaN</td>\n",
              "      <td>NaN</td>\n",
              "      <td>NaN</td>\n",
              "      <td>NaN</td>\n",
              "      <td>NaN</td>\n",
              "      <td>NaN</td>\n",
              "      <td>NaN</td>\n",
              "      <td>NaN</td>\n",
              "      <td>NaN</td>\n",
              "      <td>NaN</td>\n",
              "      <td>NaN</td>\n",
              "      <td>NaN</td>\n",
              "      <td>NaN</td>\n",
              "      <td>NaN</td>\n",
              "      <td>NaN</td>\n",
              "      <td>NaN</td>\n",
              "      <td>NaN</td>\n",
              "      <td>NaN</td>\n",
              "      <td>NaN</td>\n",
              "      <td>NaN</td>\n",
              "      <td>NaN</td>\n",
              "    </tr>\n",
              "    <tr>\n",
              "      <th>1</th>\n",
              "      <td>90272821</td>\n",
              "      <td>No</td>\n",
              "      <td>Male</td>\n",
              "      <td>44</td>\n",
              "      <td>USA</td>\n",
              "      <td>NM</td>\n",
              "      <td>MEH</td>\n",
              "      <td>DESPAIR</td>\n",
              "      <td>JOY</td>\n",
              "      <td>MEH</td>\n",
              "      <td>DESPAIR</td>\n",
              "      <td>DESPAIR</td>\n",
              "      <td>DESPAIR</td>\n",
              "      <td>DESPAIR</td>\n",
              "      <td>DESPAIR</td>\n",
              "      <td>DESPAIR</td>\n",
              "      <td>MEH</td>\n",
              "      <td>MEH</td>\n",
              "      <td>DESPAIR</td>\n",
              "      <td>MEH</td>\n",
              "      <td>JOY</td>\n",
              "      <td>MEH</td>\n",
              "      <td>DESPAIR</td>\n",
              "      <td>DESPAIR</td>\n",
              "      <td>DESPAIR</td>\n",
              "      <td>DESPAIR</td>\n",
              "      <td>DESPAIR</td>\n",
              "      <td>MEH</td>\n",
              "      <td>JOY</td>\n",
              "      <td>DESPAIR</td>\n",
              "      <td>DESPAIR</td>\n",
              "      <td>DESPAIR</td>\n",
              "      <td>DESPAIR</td>\n",
              "      <td>MEH</td>\n",
              "      <td>DESPAIR</td>\n",
              "      <td>MEH</td>\n",
              "      <td>MEH</td>\n",
              "      <td>DESPAIR</td>\n",
              "      <td>MEH</td>\n",
              "      <td>JOY</td>\n",
              "      <td>JOY</td>\n",
              "      <td>MEH</td>\n",
              "      <td>DESPAIR</td>\n",
              "      <td>DESPAIR</td>\n",
              "      <td>MEH</td>\n",
              "      <td>DESPAIR</td>\n",
              "      <td>DESPAIR</td>\n",
              "      <td>DESPAIR</td>\n",
              "      <td>DESPAIR</td>\n",
              "      <td>DESPAIR</td>\n",
              "      <td>JOY</td>\n",
              "      <td>DESPAIR</td>\n",
              "      <td>MEH</td>\n",
              "      <td>MEH</td>\n",
              "      <td>JOY</td>\n",
              "      <td>MEH</td>\n",
              "      <td>DESPAIR</td>\n",
              "      <td>DESPAIR</td>\n",
              "      <td>DESPAIR</td>\n",
              "      <td>MEH</td>\n",
              "      <td>MEH</td>\n",
              "      <td>JOY</td>\n",
              "      <td>JOY</td>\n",
              "      <td>MEH</td>\n",
              "      <td>JOY</td>\n",
              "      <td>JOY</td>\n",
              "      <td>JOY</td>\n",
              "      <td>JOY</td>\n",
              "      <td>DESPAIR</td>\n",
              "      <td>DESPAIR</td>\n",
              "      <td>MEH</td>\n",
              "      <td>DESPAIR</td>\n",
              "      <td>DESPAIR</td>\n",
              "      <td>DESPAIR</td>\n",
              "      <td>DESPAIR</td>\n",
              "      <td>JOY</td>\n",
              "      <td>DESPAIR</td>\n",
              "      <td>DESPAIR</td>\n",
              "      <td>DESPAIR</td>\n",
              "      <td>DESPAIR</td>\n",
              "      <td>DESPAIR</td>\n",
              "      <td>JOY</td>\n",
              "      <td>JOY</td>\n",
              "      <td>DESPAIR</td>\n",
              "      <td>JOY</td>\n",
              "      <td>DESPAIR</td>\n",
              "      <td>DESPAIR</td>\n",
              "      <td>DESPAIR</td>\n",
              "      <td>DESPAIR</td>\n",
              "      <td>MEH</td>\n",
              "      <td>DESPAIR</td>\n",
              "      <td>DESPAIR</td>\n",
              "      <td>MEH</td>\n",
              "      <td>DESPAIR</td>\n",
              "      <td>MEH</td>\n",
              "      <td>DESPAIR</td>\n",
              "      <td>DESPAIR</td>\n",
              "      <td>DESPAIR</td>\n",
              "      <td>DESPAIR</td>\n",
              "      <td>JOY</td>\n",
              "      <td>JOY</td>\n",
              "      <td>DESPAIR</td>\n",
              "      <td>JOY</td>\n",
              "      <td>DESPAIR</td>\n",
              "      <td>DESPAIR</td>\n",
              "      <td>DESPAIR</td>\n",
              "      <td>DESPAIR</td>\n",
              "      <td>DESPAIR</td>\n",
              "      <td>DESPAIR</td>\n",
              "      <td>Mounds</td>\n",
              "      <td>NaN</td>\n",
              "      <td>Bottom line is Twix is really the only candy w...</td>\n",
              "      <td>White and gold</td>\n",
              "      <td>NaN</td>\n",
              "      <td>Sunday</td>\n",
              "      <td>NaN</td>\n",
              "      <td>1.0</td>\n",
              "      <td>NaN</td>\n",
              "      <td>NaN</td>\n",
              "      <td>(84, 25)</td>\n",
              "    </tr>\n",
              "    <tr>\n",
              "      <th>2</th>\n",
              "      <td>90272829</td>\n",
              "      <td>NaN</td>\n",
              "      <td>Male</td>\n",
              "      <td>49</td>\n",
              "      <td>USA</td>\n",
              "      <td>Virginia</td>\n",
              "      <td>NaN</td>\n",
              "      <td>NaN</td>\n",
              "      <td>NaN</td>\n",
              "      <td>NaN</td>\n",
              "      <td>NaN</td>\n",
              "      <td>NaN</td>\n",
              "      <td>NaN</td>\n",
              "      <td>NaN</td>\n",
              "      <td>NaN</td>\n",
              "      <td>NaN</td>\n",
              "      <td>NaN</td>\n",
              "      <td>NaN</td>\n",
              "      <td>NaN</td>\n",
              "      <td>NaN</td>\n",
              "      <td>NaN</td>\n",
              "      <td>NaN</td>\n",
              "      <td>NaN</td>\n",
              "      <td>NaN</td>\n",
              "      <td>NaN</td>\n",
              "      <td>NaN</td>\n",
              "      <td>NaN</td>\n",
              "      <td>NaN</td>\n",
              "      <td>NaN</td>\n",
              "      <td>NaN</td>\n",
              "      <td>NaN</td>\n",
              "      <td>NaN</td>\n",
              "      <td>NaN</td>\n",
              "      <td>NaN</td>\n",
              "      <td>NaN</td>\n",
              "      <td>NaN</td>\n",
              "      <td>NaN</td>\n",
              "      <td>NaN</td>\n",
              "      <td>NaN</td>\n",
              "      <td>NaN</td>\n",
              "      <td>NaN</td>\n",
              "      <td>NaN</td>\n",
              "      <td>NaN</td>\n",
              "      <td>NaN</td>\n",
              "      <td>NaN</td>\n",
              "      <td>NaN</td>\n",
              "      <td>NaN</td>\n",
              "      <td>NaN</td>\n",
              "      <td>NaN</td>\n",
              "      <td>NaN</td>\n",
              "      <td>NaN</td>\n",
              "      <td>NaN</td>\n",
              "      <td>NaN</td>\n",
              "      <td>NaN</td>\n",
              "      <td>NaN</td>\n",
              "      <td>NaN</td>\n",
              "      <td>NaN</td>\n",
              "      <td>NaN</td>\n",
              "      <td>NaN</td>\n",
              "      <td>NaN</td>\n",
              "      <td>NaN</td>\n",
              "      <td>NaN</td>\n",
              "      <td>NaN</td>\n",
              "      <td>NaN</td>\n",
              "      <td>NaN</td>\n",
              "      <td>NaN</td>\n",
              "      <td>NaN</td>\n",
              "      <td>NaN</td>\n",
              "      <td>NaN</td>\n",
              "      <td>NaN</td>\n",
              "      <td>NaN</td>\n",
              "      <td>NaN</td>\n",
              "      <td>NaN</td>\n",
              "      <td>NaN</td>\n",
              "      <td>NaN</td>\n",
              "      <td>NaN</td>\n",
              "      <td>NaN</td>\n",
              "      <td>NaN</td>\n",
              "      <td>NaN</td>\n",
              "      <td>NaN</td>\n",
              "      <td>NaN</td>\n",
              "      <td>NaN</td>\n",
              "      <td>NaN</td>\n",
              "      <td>NaN</td>\n",
              "      <td>NaN</td>\n",
              "      <td>NaN</td>\n",
              "      <td>NaN</td>\n",
              "      <td>NaN</td>\n",
              "      <td>NaN</td>\n",
              "      <td>NaN</td>\n",
              "      <td>NaN</td>\n",
              "      <td>NaN</td>\n",
              "      <td>NaN</td>\n",
              "      <td>NaN</td>\n",
              "      <td>NaN</td>\n",
              "      <td>NaN</td>\n",
              "      <td>NaN</td>\n",
              "      <td>NaN</td>\n",
              "      <td>NaN</td>\n",
              "      <td>NaN</td>\n",
              "      <td>NaN</td>\n",
              "      <td>NaN</td>\n",
              "      <td>NaN</td>\n",
              "      <td>NaN</td>\n",
              "      <td>NaN</td>\n",
              "      <td>NaN</td>\n",
              "      <td>NaN</td>\n",
              "      <td>NaN</td>\n",
              "      <td>NaN</td>\n",
              "      <td>NaN</td>\n",
              "      <td>NaN</td>\n",
              "      <td>NaN</td>\n",
              "      <td>NaN</td>\n",
              "      <td>NaN</td>\n",
              "      <td>NaN</td>\n",
              "      <td>NaN</td>\n",
              "      <td>NaN</td>\n",
              "      <td>NaN</td>\n",
              "      <td>NaN</td>\n",
              "      <td>NaN</td>\n",
              "    </tr>\n",
              "    <tr>\n",
              "      <th>3</th>\n",
              "      <td>90272840</td>\n",
              "      <td>No</td>\n",
              "      <td>Male</td>\n",
              "      <td>40</td>\n",
              "      <td>us</td>\n",
              "      <td>or</td>\n",
              "      <td>MEH</td>\n",
              "      <td>DESPAIR</td>\n",
              "      <td>JOY</td>\n",
              "      <td>MEH</td>\n",
              "      <td>MEH</td>\n",
              "      <td>DESPAIR</td>\n",
              "      <td>MEH</td>\n",
              "      <td>DESPAIR</td>\n",
              "      <td>DESPAIR</td>\n",
              "      <td>MEH</td>\n",
              "      <td>MEH</td>\n",
              "      <td>DESPAIR</td>\n",
              "      <td>DESPAIR</td>\n",
              "      <td>MEH</td>\n",
              "      <td>JOY</td>\n",
              "      <td>MEH</td>\n",
              "      <td>JOY</td>\n",
              "      <td>MEH</td>\n",
              "      <td>DESPAIR</td>\n",
              "      <td>DESPAIR</td>\n",
              "      <td>DESPAIR</td>\n",
              "      <td>JOY</td>\n",
              "      <td>JOY</td>\n",
              "      <td>MEH</td>\n",
              "      <td>MEH</td>\n",
              "      <td>JOY</td>\n",
              "      <td>JOY</td>\n",
              "      <td>MEH</td>\n",
              "      <td>DESPAIR</td>\n",
              "      <td>JOY</td>\n",
              "      <td>MEH</td>\n",
              "      <td>MEH</td>\n",
              "      <td>DESPAIR</td>\n",
              "      <td>MEH</td>\n",
              "      <td>MEH</td>\n",
              "      <td>MEH</td>\n",
              "      <td>MEH</td>\n",
              "      <td>MEH</td>\n",
              "      <td>MEH</td>\n",
              "      <td>DESPAIR</td>\n",
              "      <td>DESPAIR</td>\n",
              "      <td>DESPAIR</td>\n",
              "      <td>DESPAIR</td>\n",
              "      <td>MEH</td>\n",
              "      <td>MEH</td>\n",
              "      <td>JOY</td>\n",
              "      <td>JOY</td>\n",
              "      <td>MEH</td>\n",
              "      <td>JOY</td>\n",
              "      <td>JOY</td>\n",
              "      <td>DESPAIR</td>\n",
              "      <td>JOY</td>\n",
              "      <td>MEH</td>\n",
              "      <td>MEH</td>\n",
              "      <td>DESPAIR</td>\n",
              "      <td>JOY</td>\n",
              "      <td>MEH</td>\n",
              "      <td>JOY</td>\n",
              "      <td>MEH</td>\n",
              "      <td>MEH</td>\n",
              "      <td>MEH</td>\n",
              "      <td>MEH</td>\n",
              "      <td>MEH</td>\n",
              "      <td>DESPAIR</td>\n",
              "      <td>DESPAIR</td>\n",
              "      <td>MEH</td>\n",
              "      <td>MEH</td>\n",
              "      <td>DESPAIR</td>\n",
              "      <td>MEH</td>\n",
              "      <td>MEH</td>\n",
              "      <td>MEH</td>\n",
              "      <td>DESPAIR</td>\n",
              "      <td>DESPAIR</td>\n",
              "      <td>DESPAIR</td>\n",
              "      <td>DESPAIR</td>\n",
              "      <td>JOY</td>\n",
              "      <td>MEH</td>\n",
              "      <td>MEH</td>\n",
              "      <td>MEH</td>\n",
              "      <td>DESPAIR</td>\n",
              "      <td>DESPAIR</td>\n",
              "      <td>DESPAIR</td>\n",
              "      <td>MEH</td>\n",
              "      <td>JOY</td>\n",
              "      <td>MEH</td>\n",
              "      <td>DESPAIR</td>\n",
              "      <td>MEH</td>\n",
              "      <td>MEH</td>\n",
              "      <td>JOY</td>\n",
              "      <td>MEH</td>\n",
              "      <td>JOY</td>\n",
              "      <td>MEH</td>\n",
              "      <td>DESPAIR</td>\n",
              "      <td>DESPAIR</td>\n",
              "      <td>JOY</td>\n",
              "      <td>MEH</td>\n",
              "      <td>JOY</td>\n",
              "      <td>DESPAIR</td>\n",
              "      <td>JOY</td>\n",
              "      <td>JOY</td>\n",
              "      <td>DESPAIR</td>\n",
              "      <td>DESPAIR</td>\n",
              "      <td>DESPAIR</td>\n",
              "      <td>Reese's crispy crunchy bars, 5th avenue bars, ...</td>\n",
              "      <td>NaN</td>\n",
              "      <td>Raisins can go to hell</td>\n",
              "      <td>White and gold</td>\n",
              "      <td>NaN</td>\n",
              "      <td>Sunday</td>\n",
              "      <td>NaN</td>\n",
              "      <td>1.0</td>\n",
              "      <td>NaN</td>\n",
              "      <td>NaN</td>\n",
              "      <td>(75, 23)</td>\n",
              "    </tr>\n",
              "    <tr>\n",
              "      <th>4</th>\n",
              "      <td>90272841</td>\n",
              "      <td>No</td>\n",
              "      <td>Male</td>\n",
              "      <td>23</td>\n",
              "      <td>usa</td>\n",
              "      <td>exton pa</td>\n",
              "      <td>JOY</td>\n",
              "      <td>DESPAIR</td>\n",
              "      <td>JOY</td>\n",
              "      <td>DESPAIR</td>\n",
              "      <td>MEH</td>\n",
              "      <td>DESPAIR</td>\n",
              "      <td>MEH</td>\n",
              "      <td>DESPAIR</td>\n",
              "      <td>DESPAIR</td>\n",
              "      <td>MEH</td>\n",
              "      <td>MEH</td>\n",
              "      <td>DESPAIR</td>\n",
              "      <td>DESPAIR</td>\n",
              "      <td>JOY</td>\n",
              "      <td>MEH</td>\n",
              "      <td>JOY</td>\n",
              "      <td>DESPAIR</td>\n",
              "      <td>DESPAIR</td>\n",
              "      <td>MEH</td>\n",
              "      <td>DESPAIR</td>\n",
              "      <td>DESPAIR</td>\n",
              "      <td>MEH</td>\n",
              "      <td>JOY</td>\n",
              "      <td>DESPAIR</td>\n",
              "      <td>DESPAIR</td>\n",
              "      <td>DESPAIR</td>\n",
              "      <td>MEH</td>\n",
              "      <td>MEH</td>\n",
              "      <td>DESPAIR</td>\n",
              "      <td>JOY</td>\n",
              "      <td>MEH</td>\n",
              "      <td>DESPAIR</td>\n",
              "      <td>DESPAIR</td>\n",
              "      <td>JOY</td>\n",
              "      <td>MEH</td>\n",
              "      <td>MEH</td>\n",
              "      <td>DESPAIR</td>\n",
              "      <td>MEH</td>\n",
              "      <td>JOY</td>\n",
              "      <td>MEH</td>\n",
              "      <td>JOY</td>\n",
              "      <td>DESPAIR</td>\n",
              "      <td>DESPAIR</td>\n",
              "      <td>JOY</td>\n",
              "      <td>JOY</td>\n",
              "      <td>JOY</td>\n",
              "      <td>JOY</td>\n",
              "      <td>MEH</td>\n",
              "      <td>DESPAIR</td>\n",
              "      <td>JOY</td>\n",
              "      <td>MEH</td>\n",
              "      <td>MEH</td>\n",
              "      <td>DESPAIR</td>\n",
              "      <td>MEH</td>\n",
              "      <td>MEH</td>\n",
              "      <td>JOY</td>\n",
              "      <td>JOY</td>\n",
              "      <td>JOY</td>\n",
              "      <td>JOY</td>\n",
              "      <td>JOY</td>\n",
              "      <td>JOY</td>\n",
              "      <td>JOY</td>\n",
              "      <td>MEH</td>\n",
              "      <td>DESPAIR</td>\n",
              "      <td>JOY</td>\n",
              "      <td>JOY</td>\n",
              "      <td>MEH</td>\n",
              "      <td>DESPAIR</td>\n",
              "      <td>JOY</td>\n",
              "      <td>JOY</td>\n",
              "      <td>JOY</td>\n",
              "      <td>MEH</td>\n",
              "      <td>DESPAIR</td>\n",
              "      <td>JOY</td>\n",
              "      <td>DESPAIR</td>\n",
              "      <td>JOY</td>\n",
              "      <td>JOY</td>\n",
              "      <td>MEH</td>\n",
              "      <td>JOY</td>\n",
              "      <td>NaN</td>\n",
              "      <td>JOY</td>\n",
              "      <td>JOY</td>\n",
              "      <td>DESPAIR</td>\n",
              "      <td>NaN</td>\n",
              "      <td>MEH</td>\n",
              "      <td>DESPAIR</td>\n",
              "      <td>JOY</td>\n",
              "      <td>JOY</td>\n",
              "      <td>MEH</td>\n",
              "      <td>DESPAIR</td>\n",
              "      <td>MEH</td>\n",
              "      <td>DESPAIR</td>\n",
              "      <td>DESPAIR</td>\n",
              "      <td>JOY</td>\n",
              "      <td>JOY</td>\n",
              "      <td>DESPAIR</td>\n",
              "      <td>JOY</td>\n",
              "      <td>MEH</td>\n",
              "      <td>JOY</td>\n",
              "      <td>JOY</td>\n",
              "      <td>DESPAIR</td>\n",
              "      <td>DESPAIR</td>\n",
              "      <td>JOY</td>\n",
              "      <td>NaN</td>\n",
              "      <td>NaN</td>\n",
              "      <td>NaN</td>\n",
              "      <td>White and gold</td>\n",
              "      <td>NaN</td>\n",
              "      <td>Friday</td>\n",
              "      <td>NaN</td>\n",
              "      <td>1.0</td>\n",
              "      <td>NaN</td>\n",
              "      <td>NaN</td>\n",
              "      <td>(70, 10)</td>\n",
              "    </tr>\n",
              "  </tbody>\n",
              "</table>\n",
              "</div>\n",
              "      <button class=\"colab-df-convert\" onclick=\"convertToInteractive('df-61c04bd5-be45-4106-b6f1-2f70fcda9fb1')\"\n",
              "              title=\"Convert this dataframe to an interactive table.\"\n",
              "              style=\"display:none;\">\n",
              "        \n",
              "  <svg xmlns=\"http://www.w3.org/2000/svg\" height=\"24px\"viewBox=\"0 0 24 24\"\n",
              "       width=\"24px\">\n",
              "    <path d=\"M0 0h24v24H0V0z\" fill=\"none\"/>\n",
              "    <path d=\"M18.56 5.44l.94 2.06.94-2.06 2.06-.94-2.06-.94-.94-2.06-.94 2.06-2.06.94zm-11 1L8.5 8.5l.94-2.06 2.06-.94-2.06-.94L8.5 2.5l-.94 2.06-2.06.94zm10 10l.94 2.06.94-2.06 2.06-.94-2.06-.94-.94-2.06-.94 2.06-2.06.94z\"/><path d=\"M17.41 7.96l-1.37-1.37c-.4-.4-.92-.59-1.43-.59-.52 0-1.04.2-1.43.59L10.3 9.45l-7.72 7.72c-.78.78-.78 2.05 0 2.83L4 21.41c.39.39.9.59 1.41.59.51 0 1.02-.2 1.41-.59l7.78-7.78 2.81-2.81c.8-.78.8-2.07 0-2.86zM5.41 20L4 18.59l7.72-7.72 1.47 1.35L5.41 20z\"/>\n",
              "  </svg>\n",
              "      </button>\n",
              "      \n",
              "  <style>\n",
              "    .colab-df-container {\n",
              "      display:flex;\n",
              "      flex-wrap:wrap;\n",
              "      gap: 12px;\n",
              "    }\n",
              "\n",
              "    .colab-df-convert {\n",
              "      background-color: #E8F0FE;\n",
              "      border: none;\n",
              "      border-radius: 50%;\n",
              "      cursor: pointer;\n",
              "      display: none;\n",
              "      fill: #1967D2;\n",
              "      height: 32px;\n",
              "      padding: 0 0 0 0;\n",
              "      width: 32px;\n",
              "    }\n",
              "\n",
              "    .colab-df-convert:hover {\n",
              "      background-color: #E2EBFA;\n",
              "      box-shadow: 0px 1px 2px rgba(60, 64, 67, 0.3), 0px 1px 3px 1px rgba(60, 64, 67, 0.15);\n",
              "      fill: #174EA6;\n",
              "    }\n",
              "\n",
              "    [theme=dark] .colab-df-convert {\n",
              "      background-color: #3B4455;\n",
              "      fill: #D2E3FC;\n",
              "    }\n",
              "\n",
              "    [theme=dark] .colab-df-convert:hover {\n",
              "      background-color: #434B5C;\n",
              "      box-shadow: 0px 1px 3px 1px rgba(0, 0, 0, 0.15);\n",
              "      filter: drop-shadow(0px 1px 2px rgba(0, 0, 0, 0.3));\n",
              "      fill: #FFFFFF;\n",
              "    }\n",
              "  </style>\n",
              "\n",
              "      <script>\n",
              "        const buttonEl =\n",
              "          document.querySelector('#df-61c04bd5-be45-4106-b6f1-2f70fcda9fb1 button.colab-df-convert');\n",
              "        buttonEl.style.display =\n",
              "          google.colab.kernel.accessAllowed ? 'block' : 'none';\n",
              "\n",
              "        async function convertToInteractive(key) {\n",
              "          const element = document.querySelector('#df-61c04bd5-be45-4106-b6f1-2f70fcda9fb1');\n",
              "          const dataTable =\n",
              "            await google.colab.kernel.invokeFunction('convertToInteractive',\n",
              "                                                     [key], {});\n",
              "          if (!dataTable) return;\n",
              "\n",
              "          const docLinkHtml = 'Like what you see? Visit the ' +\n",
              "            '<a target=\"_blank\" href=https://colab.research.google.com/notebooks/data_table.ipynb>data table notebook</a>'\n",
              "            + ' to learn more about interactive tables.';\n",
              "          element.innerHTML = '';\n",
              "          dataTable['output_type'] = 'display_data';\n",
              "          await google.colab.output.renderOutput(dataTable, element);\n",
              "          const docLink = document.createElement('div');\n",
              "          docLink.innerHTML = docLinkHtml;\n",
              "          element.appendChild(docLink);\n",
              "        }\n",
              "      </script>\n",
              "    </div>\n",
              "  </div>\n",
              "  "
            ]
          },
          "metadata": {},
          "execution_count": 4
        }
      ],
      "source": [
        "df.head()"
      ]
    },
    {
      "cell_type": "code",
      "execution_count": 5,
      "metadata": {
        "colab": {
          "base_uri": "https://localhost:8080/"
        },
        "id": "iLGZtdl0a_Bz",
        "outputId": "30e9bc9f-4351-4520-a3ca-ef88904dee8a"
      },
      "outputs": [
        {
          "output_type": "execute_result",
          "data": {
            "text/plain": [
              "Index(['Internal ID', 'Q1: GOING OUT?', 'Q2: GENDER', 'Q3: AGE', 'Q4: COUNTRY',\n",
              "       'Q5: STATE, PROVINCE, COUNTY, ETC', 'Q6 | 100 Grand Bar',\n",
              "       'Q6 | Anonymous brown globs that come in black and orange wrappers\\t(a.k.a. Mary Janes)',\n",
              "       'Q6 | Any full-sized candy bar', 'Q6 | Black Jacks',\n",
              "       ...\n",
              "       'Q8: DESPAIR OTHER', 'Q9: OTHER COMMENTS', 'Q10: DRESS', 'Unnamed: 113',\n",
              "       'Q11: DAY', 'Q12: MEDIA [Daily Dish]', 'Q12: MEDIA [Science]',\n",
              "       'Q12: MEDIA [ESPN]', 'Q12: MEDIA [Yahoo]', 'Click Coordinates (x, y)'],\n",
              "      dtype='object', length=120)"
            ]
          },
          "metadata": {},
          "execution_count": 5
        }
      ],
      "source": [
        "df.columns"
      ]
    },
    {
      "cell_type": "code",
      "execution_count": 6,
      "metadata": {
        "colab": {
          "base_uri": "https://localhost:8080/"
        },
        "id": "f-qzMGbKkr50",
        "outputId": "703f8b54-135a-4c16-9c09-5b59e60f01e9"
      },
      "outputs": [
        {
          "output_type": "execute_result",
          "data": {
            "text/plain": [
              "Internal ID                 2460\n",
              "Q1: GOING OUT?                 2\n",
              "Q2: GENDER                     4\n",
              "Q3: AGE                      106\n",
              "Q4: COUNTRY                  128\n",
              "                            ... \n",
              "Q12: MEDIA [Daily Dish]        1\n",
              "Q12: MEDIA [Science]           1\n",
              "Q12: MEDIA [ESPN]              1\n",
              "Q12: MEDIA [Yahoo]             1\n",
              "Click Coordinates (x, y)     952\n",
              "Length: 120, dtype: int64"
            ]
          },
          "metadata": {},
          "execution_count": 6
        }
      ],
      "source": [
        "# taking a look at number of unique values\n",
        "df.nunique()"
      ]
    },
    {
      "cell_type": "code",
      "execution_count": 7,
      "metadata": {
        "colab": {
          "base_uri": "https://localhost:8080/"
        },
        "id": "77_Lt-fWau55",
        "outputId": "16313f77-a88a-40db-ce95-b2aa3c5a4b0f"
      },
      "outputs": [
        {
          "output_type": "execute_result",
          "data": {
            "text/plain": [
              "Internal ID                    0\n",
              "Q1: GOING OUT?               110\n",
              "Q2: GENDER                    41\n",
              "Q3: AGE                       84\n",
              "Q4: COUNTRY                   64\n",
              "                            ... \n",
              "Q12: MEDIA [Daily Dish]     2375\n",
              "Q12: MEDIA [Science]        1098\n",
              "Q12: MEDIA [ESPN]           2361\n",
              "Q12: MEDIA [Yahoo]          2393\n",
              "Click Coordinates (x, y)     855\n",
              "Length: 120, dtype: int64"
            ]
          },
          "metadata": {},
          "execution_count": 7
        }
      ],
      "source": [
        "df.isnull().sum()"
      ]
    },
    {
      "cell_type": "code",
      "execution_count": 8,
      "metadata": {
        "colab": {
          "base_uri": "https://localhost:8080/",
          "height": 328
        },
        "id": "6SdvnVNLdbh0",
        "outputId": "4dcd222f-cc66-41f5-b8a3-26c48c586c25"
      },
      "outputs": [
        {
          "output_type": "execute_result",
          "data": {
            "text/plain": [
              "Text(32.49999999999998, 0.5, 'Missing Values')"
            ]
          },
          "metadata": {},
          "execution_count": 8
        },
        {
          "output_type": "display_data",
          "data": {
            "text/plain": [
              "<Figure size 432x288 with 1 Axes>"
            ],
            "image/png": "[encoded data removed]"
          },
          "metadata": {
            "needs_background": "light"
          }
        }
      ],
      "source": [
        "ax = plt.axes()\n",
        "sns.heatmap(df.isna().transpose(), cbar=False, ax=ax)\n",
        "plt.title('Missing Values', fontsize=12)\n",
        "plt.xlabel('Columns', fontsize = 10) \n",
        "plt.ylabel('Missing Values', fontsize = 10)"
      ]
    },
    {
      "cell_type": "code",
      "execution_count": 9,
      "metadata": {
        "colab": {
          "base_uri": "https://localhost:8080/"
        },
        "id": "WVqNsqytk4d_",
        "outputId": "a6b94f5f-40f8-4d39-ab04-11fb2d8cee33"
      },
      "outputs": [
        {
          "output_type": "execute_result",
          "data": {
            "text/plain": [
              "0"
            ]
          },
          "metadata": {},
          "execution_count": 9
        }
      ],
      "source": [
        "# calculating duplicated values \n",
        "df.duplicated().sum()"
      ]
    },
    {
      "cell_type": "code",
      "execution_count": 10,
      "metadata": {
        "colab": {
          "base_uri": "https://localhost:8080/"
        },
        "id": "Vmim5KfHgUj1",
        "outputId": "7ecbb0a1-5136-4a0f-b193-dd1f3b8f9ff2"
      },
      "outputs": [
        {
          "output_type": "stream",
          "name": "stdout",
          "text": [
            "<class 'pandas.core.frame.DataFrame'>\n",
            "RangeIndex: 2460 entries, 0 to 2459\n",
            "Columns: 120 entries, Internal ID to Click Coordinates (x, y)\n",
            "dtypes: float64(4), int64(1), object(115)\n",
            "memory usage: 2.3+ MB\n"
          ]
        }
      ],
      "source": [
        "df.info()"
      ]
    },
    {
      "cell_type": "code",
      "execution_count": 11,
      "metadata": {
        "colab": {
          "base_uri": "https://localhost:8080/",
          "height": 300
        },
        "id": "NTPRQzWlgUqH",
        "outputId": "0de5ffca-2044-4e8f-9b27-6df4d6591c09"
      },
      "outputs": [
        {
          "output_type": "execute_result",
          "data": {
            "text/plain": [
              "        Internal ID  Q12: MEDIA [Daily Dish]  Q12: MEDIA [Science]  \\\n",
              "count  2.460000e+03                     85.0                1362.0   \n",
              "mean   9.028016e+07                      1.0                   1.0   \n",
              "std    7.435532e+03                      0.0                   0.0   \n",
              "min    9.025877e+07                      1.0                   1.0   \n",
              "25%    9.027520e+07                      1.0                   1.0   \n",
              "50%    9.027780e+07                      1.0                   1.0   \n",
              "75%    9.028242e+07                      1.0                   1.0   \n",
              "max    9.031480e+07                      1.0                   1.0   \n",
              "\n",
              "       Q12: MEDIA [ESPN]  Q12: MEDIA [Yahoo]  \n",
              "count               99.0                67.0  \n",
              "mean                 1.0                 1.0  \n",
              "std                  0.0                 0.0  \n",
              "min                  1.0                 1.0  \n",
              "25%                  1.0                 1.0  \n",
              "50%                  1.0                 1.0  \n",
              "75%                  1.0                 1.0  \n",
              "max                  1.0                 1.0  "
            ],
            "text/html": [
              "\n",
              "  <div id=\"df-39865112-60bd-4930-a112-b5faaf063817\">\n",
              "    <div class=\"colab-df-container\">\n",
              "      <div>\n",
              "<style scoped>\n",
              "    .dataframe tbody tr th:only-of-type {\n",
              "        vertical-align: middle;\n",
              "    }\n",
              "\n",
              "    .dataframe tbody tr th {\n",
              "        vertical-align: top;\n",
              "    }\n",
              "\n",
              "    .dataframe thead th {\n",
              "        text-align: right;\n",
              "    }\n",
              "</style>\n",
              "<table border=\"1\" class=\"dataframe\">\n",
              "  <thead>\n",
              "    <tr style=\"text-align: right;\">\n",
              "      <th></th>\n",
              "      <th>Internal ID</th>\n",
              "      <th>Q12: MEDIA [Daily Dish]</th>\n",
              "      <th>Q12: MEDIA [Science]</th>\n",
              "      <th>Q12: MEDIA [ESPN]</th>\n",
              "      <th>Q12: MEDIA [Yahoo]</th>\n",
              "    </tr>\n",
              "  </thead>\n",
              "  <tbody>\n",
              "    <tr>\n",
              "      <th>count</th>\n",
              "      <td>2.460000e+03</td>\n",
              "      <td>85.0</td>\n",
              "      <td>1362.0</td>\n",
              "      <td>99.0</td>\n",
              "      <td>67.0</td>\n",
              "    </tr>\n",
              "    <tr>\n",
              "      <th>mean</th>\n",
              "      <td>9.028016e+07</td>\n",
              "      <td>1.0</td>\n",
              "      <td>1.0</td>\n",
              "      <td>1.0</td>\n",
              "      <td>1.0</td>\n",
              "    </tr>\n",
              "    <tr>\n",
              "      <th>std</th>\n",
              "      <td>7.435532e+03</td>\n",
              "      <td>0.0</td>\n",
              "      <td>0.0</td>\n",
              "      <td>0.0</td>\n",
              "      <td>0.0</td>\n",
              "    </tr>\n",
              "    <tr>\n",
              "      <th>min</th>\n",
              "      <td>9.025877e+07</td>\n",
              "      <td>1.0</td>\n",
              "      <td>1.0</td>\n",
              "      <td>1.0</td>\n",
              "      <td>1.0</td>\n",
              "    </tr>\n",
              "    <tr>\n",
              "      <th>25%</th>\n",
              "      <td>9.027520e+07</td>\n",
              "      <td>1.0</td>\n",
              "      <td>1.0</td>\n",
              "      <td>1.0</td>\n",
              "      <td>1.0</td>\n",
              "    </tr>\n",
              "    <tr>\n",
              "      <th>50%</th>\n",
              "      <td>9.027780e+07</td>\n",
              "      <td>1.0</td>\n",
              "      <td>1.0</td>\n",
              "      <td>1.0</td>\n",
              "      <td>1.0</td>\n",
              "    </tr>\n",
              "    <tr>\n",
              "      <th>75%</th>\n",
              "      <td>9.028242e+07</td>\n",
              "      <td>1.0</td>\n",
              "      <td>1.0</td>\n",
              "      <td>1.0</td>\n",
              "      <td>1.0</td>\n",
              "    </tr>\n",
              "    <tr>\n",
              "      <th>max</th>\n",
              "      <td>9.031480e+07</td>\n",
              "      <td>1.0</td>\n",
              "      <td>1.0</td>\n",
              "      <td>1.0</td>\n",
              "      <td>1.0</td>\n",
              "    </tr>\n",
              "  </tbody>\n",
              "</table>\n",
              "</div>\n",
              "      <button class=\"colab-df-convert\" onclick=\"convertToInteractive('df-39865112-60bd-4930-a112-b5faaf063817')\"\n",
              "              title=\"Convert this dataframe to an interactive table.\"\n",
              "              style=\"display:none;\">\n",
              "        \n",
              "  <svg xmlns=\"http://www.w3.org/2000/svg\" height=\"24px\"viewBox=\"0 0 24 24\"\n",
              "       width=\"24px\">\n",
              "    <path d=\"M0 0h24v24H0V0z\" fill=\"none\"/>\n",
              "    <path d=\"M18.56 5.44l.94 2.06.94-2.06 2.06-.94-2.06-.94-.94-2.06-.94 2.06-2.06.94zm-11 1L8.5 8.5l.94-2.06 2.06-.94-2.06-.94L8.5 2.5l-.94 2.06-2.06.94zm10 10l.94 2.06.94-2.06 2.06-.94-2.06-.94-.94-2.06-.94 2.06-2.06.94z\"/><path d=\"M17.41 7.96l-1.37-1.37c-.4-.4-.92-.59-1.43-.59-.52 0-1.04.2-1.43.59L10.3 9.45l-7.72 7.72c-.78.78-.78 2.05 0 2.83L4 21.41c.39.39.9.59 1.41.59.51 0 1.02-.2 1.41-.59l7.78-7.78 2.81-2.81c.8-.78.8-2.07 0-2.86zM5.41 20L4 18.59l7.72-7.72 1.47 1.35L5.41 20z\"/>\n",
              "  </svg>\n",
              "      </button>\n",
              "      \n",
              "  <style>\n",
              "    .colab-df-container {\n",
              "      display:flex;\n",
              "      flex-wrap:wrap;\n",
              "      gap: 12px;\n",
              "    }\n",
              "\n",
              "    .colab-df-convert {\n",
              "      background-color: #E8F0FE;\n",
              "      border: none;\n",
              "      border-radius: 50%;\n",
              "      cursor: pointer;\n",
              "      display: none;\n",
              "      fill: #1967D2;\n",
              "      height: 32px;\n",
              "      padding: 0 0 0 0;\n",
              "      width: 32px;\n",
              "    }\n",
              "\n",
              "    .colab-df-convert:hover {\n",
              "      background-color: #E2EBFA;\n",
              "      box-shadow: 0px 1px 2px rgba(60, 64, 67, 0.3), 0px 1px 3px 1px rgba(60, 64, 67, 0.15);\n",
              "      fill: #174EA6;\n",
              "    }\n",
              "\n",
              "    [theme=dark] .colab-df-convert {\n",
              "      background-color: #3B4455;\n",
              "      fill: #D2E3FC;\n",
              "    }\n",
              "\n",
              "    [theme=dark] .colab-df-convert:hover {\n",
              "      background-color: #434B5C;\n",
              "      box-shadow: 0px 1px 3px 1px rgba(0, 0, 0, 0.15);\n",
              "      filter: drop-shadow(0px 1px 2px rgba(0, 0, 0, 0.3));\n",
              "      fill: #FFFFFF;\n",
              "    }\n",
              "  </style>\n",
              "\n",
              "      <script>\n",
              "        const buttonEl =\n",
              "          document.querySelector('#df-39865112-60bd-4930-a112-b5faaf063817 button.colab-df-convert');\n",
              "        buttonEl.style.display =\n",
              "          google.colab.kernel.accessAllowed ? 'block' : 'none';\n",
              "\n",
              "        async function convertToInteractive(key) {\n",
              "          const element = document.querySelector('#df-39865112-60bd-4930-a112-b5faaf063817');\n",
              "          const dataTable =\n",
              "            await google.colab.kernel.invokeFunction('convertToInteractive',\n",
              "                                                     [key], {});\n",
              "          if (!dataTable) return;\n",
              "\n",
              "          const docLinkHtml = 'Like what you see? Visit the ' +\n",
              "            '<a target=\"_blank\" href=https://colab.research.google.com/notebooks/data_table.ipynb>data table notebook</a>'\n",
              "            + ' to learn more about interactive tables.';\n",
              "          element.innerHTML = '';\n",
              "          dataTable['output_type'] = 'display_data';\n",
              "          await google.colab.output.renderOutput(dataTable, element);\n",
              "          const docLink = document.createElement('div');\n",
              "          docLink.innerHTML = docLinkHtml;\n",
              "          element.appendChild(docLink);\n",
              "        }\n",
              "      </script>\n",
              "    </div>\n",
              "  </div>\n",
              "  "
            ]
          },
          "metadata": {},
          "execution_count": 11
        }
      ],
      "source": [
        "df.describe()"
      ]
    },
    {
      "cell_type": "code",
      "execution_count": 11,
      "metadata": {
        "id": "d9R2aq0Fg7u8"
      },
      "outputs": [],
      "source": []
    },
    {
      "cell_type": "markdown",
      "metadata": {
        "id": "ESsjoSy7Ygxj"
      },
      "source": [
        "# **3- write summary about what you get form the above functions**\n",
        "> #### tips : this summary can be about : if there is any missing values , if there a wrong data type , if there a wrong range of values , ...."
      ]
    },
    {
      "cell_type": "markdown",
      "metadata": {
        "id": "7pft_SWYg8e1"
      },
      "source": [
        "# As we can see from the above output:\n",
        "\n",
        "\n",
        "1.   Our dataset consists of a total of 2460 rows and 120 columns.\n",
        "2.   There are no duplicate rows.\n",
        "3.   Some columns wont be useful in answering our questions using analysis.\n",
        "4.   Too many columns with too many missing values to handle.\n",
        "\n",
        "\n",
        "\n",
        "\n"
      ]
    },
    {
      "cell_type": "markdown",
      "metadata": {
        "id": "9RpocrHPYgxl"
      },
      "source": [
        "# **cleaning**"
      ]
    },
    {
      "cell_type": "markdown",
      "metadata": {
        "id": "wCNBiB8dYgxm"
      },
      "source": [
        "# **4- drop all the useless columns and  rows with too much NaN** \n",
        "> tip : useless columns can be like `Internal ID`and can be also columns with too much NaN \n",
        "- rename columns for easy access"
      ]
    },
    {
      "cell_type": "code",
      "execution_count": 12,
      "metadata": {
        "id": "6OhPMI3xwhvN"
      },
      "outputs": [],
      "source": [
        "#useless columns"
      ]
    },
    {
      "cell_type": "code",
      "execution_count": 13,
      "metadata": {
        "id": "mkvjTYMxwh0R"
      },
      "outputs": [],
      "source": [
        "df.drop(['Unnamed: 113'], axis=1, inplace=True)"
      ]
    },
    {
      "cell_type": "code",
      "execution_count": 14,
      "metadata": {
        "id": "-s6Y4jAPwh4u"
      },
      "outputs": [],
      "source": [
        "df.drop(['Internal ID'], axis=1, inplace=True)"
      ]
    },
    {
      "cell_type": "code",
      "execution_count": 15,
      "metadata": {
        "id": "Bv4vX6m9yJSh"
      },
      "outputs": [],
      "source": [
        "#drop columns with high % of NaN values.\n",
        "#we will now delete any column that has more than 1844 missing values(70%)"
      ]
    },
    {
      "cell_type": "code",
      "execution_count": 16,
      "metadata": {
        "id": "LCJi3FRiyVsR"
      },
      "outputs": [],
      "source": [
        "nan_col=[feature for feature in df.columns if df[feature].isnull().sum()>1800]"
      ]
    },
    {
      "cell_type": "code",
      "execution_count": 17,
      "metadata": {
        "colab": {
          "base_uri": "https://localhost:8080/"
        },
        "id": "16K_ThFUy0Or",
        "outputId": "63089a83-70c2-4b64-cc28-f367c64c7e96"
      },
      "outputs": [
        {
          "output_type": "execute_result",
          "data": {
            "text/plain": [
              "['Q9: OTHER COMMENTS',\n",
              " 'Q12: MEDIA [Daily Dish]',\n",
              " 'Q12: MEDIA [ESPN]',\n",
              " 'Q12: MEDIA [Yahoo]']"
            ]
          },
          "metadata": {},
          "execution_count": 17
        }
      ],
      "source": [
        "nan_col"
      ]
    },
    {
      "cell_type": "code",
      "execution_count": 18,
      "metadata": {
        "id": "cj1s7DcIYgxn"
      },
      "outputs": [],
      "source": [
        "df=df.drop(['Q8: DESPAIR OTHER','Q9: OTHER COMMENTS','Q12: MEDIA [Yahoo]', 'Q12: MEDIA [Daily Dish]','Q12: MEDIA [ESPN]'], axis=1)"
      ]
    },
    {
      "cell_type": "code",
      "execution_count": 19,
      "metadata": {
        "colab": {
          "base_uri": "https://localhost:8080/"
        },
        "id": "gfypeQRvyzam",
        "outputId": "66720be1-50cc-4631-fe44-97cdddc00283"
      },
      "outputs": [
        {
          "output_type": "execute_result",
          "data": {
            "text/plain": [
              "Q1: GOING OUT?                      0.044715\n",
              "Q2: GENDER                          0.016667\n",
              "Q3: AGE                             0.034146\n",
              "Q4: COUNTRY                         0.026016\n",
              "Q5: STATE, PROVINCE, COUNTY, ETC    0.040650\n",
              "                                      ...   \n",
              "Q7: JOY OTHER                       0.629675\n",
              "Q10: DRESS                          0.302439\n",
              "Q11: DAY                            0.294715\n",
              "Q12: MEDIA [Science]                0.446341\n",
              "Click Coordinates (x, y)            0.347561\n",
              "Length: 113, dtype: float64"
            ]
          },
          "metadata": {},
          "execution_count": 19
        }
      ],
      "source": [
        "df.isnull().sum()/df.shape[0]"
      ]
    },
    {
      "cell_type": "code",
      "execution_count": 20,
      "metadata": {
        "id": "qp2sV7bHtR_M"
      },
      "outputs": [],
      "source": [
        "for i in df.columns:\n",
        "  if df[i].isnull().sum()/df.shape[0] >=.70:\n",
        "    df.drop([i], axis=1, inplace=True)"
      ]
    },
    {
      "cell_type": "code",
      "execution_count": 20,
      "metadata": {
        "id": "51aeCxZgsGW8"
      },
      "outputs": [],
      "source": []
    },
    {
      "cell_type": "markdown",
      "metadata": {
        "id": "wBqKLdncYgxn"
      },
      "source": [
        "# **5 - clean `going out` column**\n",
        "> tip : you should choose which best value to put in place of these NaNs ( mode, unknown,other ....etc)"
      ]
    },
    {
      "cell_type": "code",
      "execution_count": 21,
      "metadata": {
        "id": "NR9gQrZumSOU"
      },
      "outputs": [],
      "source": [
        "df = df.rename(columns = {'Q1: GOING OUT?' : 'going out'})"
      ]
    },
    {
      "cell_type": "code",
      "execution_count": 22,
      "metadata": {
        "colab": {
          "base_uri": "https://localhost:8080/"
        },
        "id": "xmiDtAJMYgxo",
        "outputId": "014cfc77-6bc8-426c-9dce-a96d6c70c408"
      },
      "outputs": [
        {
          "output_type": "execute_result",
          "data": {
            "text/plain": [
              "0       NaN\n",
              "1        No\n",
              "2       NaN\n",
              "3        No\n",
              "4        No\n",
              "       ... \n",
              "2455     No\n",
              "2456     No\n",
              "2457     No\n",
              "2458     No\n",
              "2459     No\n",
              "Name: going out, Length: 2460, dtype: object"
            ]
          },
          "metadata": {},
          "execution_count": 22
        }
      ],
      "source": [
        "df['going out']"
      ]
    },
    {
      "cell_type": "code",
      "execution_count": 23,
      "metadata": {
        "colab": {
          "base_uri": "https://localhost:8080/"
        },
        "id": "mTDxl3GqmObE",
        "outputId": "fdb1fe7c-f3ac-414a-e003-36aac9f7c7c2"
      },
      "outputs": [
        {
          "output_type": "execute_result",
          "data": {
            "text/plain": [
              "array([nan, 'No', 'Yes'], dtype=object)"
            ]
          },
          "metadata": {},
          "execution_count": 23
        }
      ],
      "source": [
        "df['going out'].unique()"
      ]
    },
    {
      "cell_type": "code",
      "execution_count": 24,
      "metadata": {
        "colab": {
          "base_uri": "https://localhost:8080/"
        },
        "id": "Jk9Q6LhnmOXd",
        "outputId": "fcafa9e6-348a-415e-af8f-6d9863c6ef34"
      },
      "outputs": [
        {
          "output_type": "execute_result",
          "data": {
            "text/plain": [
              "0.044715447154471545"
            ]
          },
          "metadata": {},
          "execution_count": 24
        }
      ],
      "source": [
        "df['going out'].isnull().sum()/len(df['going out'])"
      ]
    },
    {
      "cell_type": "code",
      "execution_count": 25,
      "metadata": {
        "colab": {
          "base_uri": "https://localhost:8080/",
          "height": 296
        },
        "id": "fDcG9M3UmOTN",
        "outputId": "3a3d9108-9a21-492d-e188-222429735642"
      },
      "outputs": [
        {
          "output_type": "execute_result",
          "data": {
            "text/plain": [
              "<matplotlib.axes._subplots.AxesSubplot at 0x7f3b43c89520>"
            ]
          },
          "metadata": {},
          "execution_count": 25
        },
        {
          "output_type": "display_data",
          "data": {
            "text/plain": [
              "<Figure size 432x288 with 1 Axes>"
            ],
            "image/png": "[encoded data removed]"
          },
          "metadata": {
            "needs_background": "light"
          }
        }
      ],
      "source": [
        "sns.countplot(x='going out',data=df)"
      ]
    },
    {
      "cell_type": "code",
      "execution_count": 26,
      "metadata": {
        "id": "1WIRfLNHmOP5"
      },
      "outputs": [],
      "source": [
        "df['going out'].fillna(value=\"UnKnown\", inplace=True)"
      ]
    },
    {
      "cell_type": "code",
      "execution_count": 27,
      "metadata": {
        "colab": {
          "base_uri": "https://localhost:8080/",
          "height": 296
        },
        "id": "zqXtjDlRmOLb",
        "outputId": "59b7c345-bde7-4113-eb14-160b6adca62d"
      },
      "outputs": [
        {
          "output_type": "execute_result",
          "data": {
            "text/plain": [
              "<matplotlib.axes._subplots.AxesSubplot at 0x7f3b43c01430>"
            ]
          },
          "metadata": {},
          "execution_count": 27
        },
        {
          "output_type": "display_data",
          "data": {
            "text/plain": [
              "<Figure size 432x288 with 1 Axes>"
            ],
            "image/png": "[encoded data removed]"
          },
          "metadata": {
            "needs_background": "light"
          }
        }
      ],
      "source": [
        "sns.countplot(x='going out',data=df,order=['No','Yes','UnKnown'])"
      ]
    },
    {
      "cell_type": "code",
      "execution_count": 27,
      "metadata": {
        "id": "n7W0OGMlmOHh"
      },
      "outputs": [],
      "source": []
    },
    {
      "cell_type": "markdown",
      "metadata": {
        "id": "NoA5HX4lYgxo"
      },
      "source": [
        "# **6 - clean ` gender` column** \n",
        "> tip : you should choose which best value to put in place of these NaNs ( mode, unknown,other ....etc)"
      ]
    },
    {
      "cell_type": "code",
      "execution_count": 28,
      "metadata": {
        "id": "I6EfHPNM3ftz"
      },
      "outputs": [],
      "source": [
        "df = df.rename(columns = {'Q2: GENDER' : 'gender'})"
      ]
    },
    {
      "cell_type": "code",
      "execution_count": 29,
      "metadata": {
        "colab": {
          "base_uri": "https://localhost:8080/"
        },
        "id": "JVLBWLxaYgxo",
        "outputId": "ab1a442b-bfb8-4ec8-a536-0b7f8c746fde"
      },
      "outputs": [
        {
          "output_type": "execute_result",
          "data": {
            "text/plain": [
              "41"
            ]
          },
          "metadata": {},
          "execution_count": 29
        }
      ],
      "source": [
        "df['gender'].isnull().sum()"
      ]
    },
    {
      "cell_type": "code",
      "execution_count": 30,
      "metadata": {
        "colab": {
          "base_uri": "https://localhost:8080/",
          "height": 296
        },
        "id": "X0peCYGs1Gqj",
        "outputId": "50240145-157b-4de6-c411-f0adb270c5fc"
      },
      "outputs": [
        {
          "output_type": "execute_result",
          "data": {
            "text/plain": [
              "<matplotlib.axes._subplots.AxesSubplot at 0x7f3b43bce460>"
            ]
          },
          "metadata": {},
          "execution_count": 30
        },
        {
          "output_type": "display_data",
          "data": {
            "text/plain": [
              "<Figure size 432x288 with 1 Axes>"
            ],
            "image/png": "[encoded data removed]"
          },
          "metadata": {
            "needs_background": "light"
          }
        }
      ],
      "source": [
        "sns.countplot(x='gender',data=df)"
      ]
    },
    {
      "cell_type": "code",
      "execution_count": 31,
      "metadata": {
        "id": "xV3dU7Lk1Cv_"
      },
      "outputs": [],
      "source": [
        "df['gender'].fillna(value=\"I'd rather not say\", inplace=True)"
      ]
    },
    {
      "cell_type": "code",
      "execution_count": 32,
      "metadata": {
        "colab": {
          "base_uri": "https://localhost:8080/"
        },
        "id": "ZE-AWCdV3ZvG",
        "outputId": "628bf2ff-ab93-4ffa-f516-e1886f479191"
      },
      "outputs": [
        {
          "output_type": "execute_result",
          "data": {
            "text/plain": [
              "0"
            ]
          },
          "metadata": {},
          "execution_count": 32
        }
      ],
      "source": [
        "df['gender'].isnull().sum()"
      ]
    },
    {
      "cell_type": "markdown",
      "metadata": {
        "id": "98tAdiogYgxp"
      },
      "source": [
        "# **7 - clean ` age` column** \n",
        "> tip : note the type of age column , and NaN values\n",
        " - try to use `to_numeric` \n",
        " - tip : you should choose which best value to put in place of these NaNs ( mean, median, ....etc)"
      ]
    },
    {
      "cell_type": "code",
      "execution_count": 33,
      "metadata": {
        "id": "i5MlyJYjYgxp"
      },
      "outputs": [],
      "source": [
        "df = df.rename(columns = {'Q3: AGE' : 'age'})"
      ]
    },
    {
      "cell_type": "code",
      "execution_count": 34,
      "metadata": {
        "colab": {
          "base_uri": "https://localhost:8080/"
        },
        "id": "diNJfx9X5Emo",
        "outputId": "b07aea13-f562-4dd9-f97e-f716402c74a4"
      },
      "outputs": [
        {
          "output_type": "execute_result",
          "data": {
            "text/plain": [
              "84"
            ]
          },
          "metadata": {},
          "execution_count": 34
        }
      ],
      "source": [
        "df['age'].isnull().sum()"
      ]
    },
    {
      "cell_type": "code",
      "execution_count": 35,
      "metadata": {
        "id": "Z7dftG2t5jtx"
      },
      "outputs": [],
      "source": [
        "out=df['age'].dtypes"
      ]
    },
    {
      "cell_type": "code",
      "execution_count": 36,
      "metadata": {
        "colab": {
          "base_uri": "https://localhost:8080/"
        },
        "id": "msq8qL6tbOfo",
        "outputId": "474102ac-dd16-4ea9-abf1-ef7c902d6b95"
      },
      "outputs": [
        {
          "output_type": "stream",
          "name": "stdout",
          "text": [
            "object\n"
          ]
        }
      ],
      "source": [
        "print(out)"
      ]
    },
    {
      "cell_type": "code",
      "execution_count": 37,
      "metadata": {
        "colab": {
          "base_uri": "https://localhost:8080/"
        },
        "id": "1Gd3znrT5HqV",
        "outputId": "6a58b65c-4061-4269-e893-fad21cd17f55"
      },
      "outputs": [
        {
          "output_type": "execute_result",
          "data": {
            "text/plain": [
              "40                 92\n",
              "34                 90\n",
              "37                 89\n",
              "43                 86\n",
              "42                 79\n",
              "                   ..\n",
              "older than dirt     1\n",
              "5u                  1\n",
              "Enough              1\n",
              "See question 2      1\n",
              "60+                 1\n",
              "Name: age, Length: 106, dtype: int64"
            ]
          },
          "metadata": {},
          "execution_count": 37
        }
      ],
      "source": [
        "df['age'].value_counts()"
      ]
    },
    {
      "cell_type": "code",
      "execution_count": 38,
      "metadata": {
        "colab": {
          "base_uri": "https://localhost:8080/"
        },
        "id": "BCtFCuojhLIB",
        "outputId": "33d5f816-e64f-4cad-b549-6ac2d92f165c"
      },
      "outputs": [
        {
          "output_type": "execute_result",
          "data": {
            "text/plain": [
              "array([nan, 44, 49, 40, 23, 53, 33, 43, 56, 64, 37, 59, 48, 54, 36, 45,\n",
              "       25, 34, 35, 38, 58, 50, 47, 16, 52, 63, 65, 41, 27, 31, 61, 46, 42,\n",
              "       62, 29, 39, 32, 28, 69, 67, 30, 22, 26, 51, 70, 24, 18, 19,\n",
              "       'Old enough', 57, 60, 66, 12, 'Many', 55, 72, '?', 21, 11, 'no', 9,\n",
              "       68, 20, 6, 10, 71, 90, 13, '45-55', 312, 99, 7, 'hahahahaha', 88,\n",
              "       39.4, 74, 102, 'older than dirt', 17, 15, 8, 75, '5u', 'Enough',\n",
              "       'See question 2', '24-50', 14, 'Over 50', 100, 76, 1000,\n",
              "       'sixty-nine', '46 Halloweens.', 'ancient', 77, 'OLD', 'old', 73,\n",
              "       70.5, 1, 'MY NAME JEFF', 4, '59 on the day after Halloween',\n",
              "       'old enough', 'your mom',\n",
              "       'I can remember when Java was a cool new language', '60+'],\n",
              "      dtype=object)"
            ]
          },
          "metadata": {},
          "execution_count": 38
        }
      ],
      "source": [
        "df['age'].unique()"
      ]
    },
    {
      "cell_type": "code",
      "execution_count": 39,
      "metadata": {
        "id": "RKtfVb9dXJMB"
      },
      "outputs": [],
      "source": [
        "df['age']= df['age'].map(str)"
      ]
    },
    {
      "cell_type": "code",
      "execution_count": 40,
      "metadata": {
        "colab": {
          "base_uri": "https://localhost:8080/"
        },
        "id": "h07-CgNc5Eud",
        "outputId": "e338f7d0-457b-46c8-d7c4-3962cd6e5b64"
      },
      "outputs": [
        {
          "output_type": "execute_result",
          "data": {
            "text/plain": [
              "array(['nan', '44', '49', '40', '23', '53', '33', '43', '56', '64', '37',\n",
              "       '59', '48', '54', '36', '45', '25', '34', '35', '38', '58', '50',\n",
              "       '47', '16', '52', '63', '65', '41', '27', '31', '61', '46', '42',\n",
              "       '62', '29', '39', '32', '28', '69', '67', '30', '22', '26', '51',\n",
              "       '70', '24', '18', '19', 'Old enough', '57', '60', '66', '12',\n",
              "       'Many', '55', '72', '?', '21', '11', 'no', '9', '68', '20', '6',\n",
              "       '10', '71', '90', '13', '45-55', '312', '99', '7', 'hahahahaha',\n",
              "       '88', '39.4', '74', '102', 'older than dirt', '17', '15', '8',\n",
              "       '75', '5u', 'Enough', 'See question 2', '24-50', '14', 'Over 50',\n",
              "       '100', '76', '1000', 'sixty-nine', '46 Halloweens.', 'ancient',\n",
              "       '77', 'OLD', 'old', '73', '70.5', '1', 'MY NAME JEFF', '4',\n",
              "       '59 on the day after Halloween', 'old enough', 'your mom',\n",
              "       'I can remember when Java was a cool new language', '60+'],\n",
              "      dtype=object)"
            ]
          },
          "metadata": {},
          "execution_count": 40
        }
      ],
      "source": [
        "df['age'].unique()"
      ]
    },
    {
      "cell_type": "code",
      "execution_count": 41,
      "metadata": {
        "id": "kGuaJ_Uc5E1m"
      },
      "outputs": [],
      "source": [
        "filter1 = df[\"age\"].isin(['24-50','45-55','60+','u','no'])"
      ]
    },
    {
      "cell_type": "code",
      "execution_count": 42,
      "metadata": {
        "colab": {
          "base_uri": "https://localhost:8080/"
        },
        "id": "N8Nu1VBPSk5k",
        "outputId": "f0c7b965-bcfc-41a9-f1c1-f26f088d3971"
      },
      "outputs": [
        {
          "output_type": "execute_result",
          "data": {
            "text/plain": [
              "False    2456\n",
              "True        4\n",
              "Name: age, dtype: int64"
            ]
          },
          "metadata": {},
          "execution_count": 42
        }
      ],
      "source": [
        "filter1.value_counts()"
      ]
    },
    {
      "cell_type": "code",
      "execution_count": 43,
      "metadata": {
        "colab": {
          "base_uri": "https://localhost:8080/"
        },
        "id": "j24OkfWySk_B",
        "outputId": "488e90ab-7762-43cd-acd4-afbdd72e5bdc"
      },
      "outputs": [
        {
          "output_type": "stream",
          "name": "stderr",
          "text": [
            "<ipython-input-43-e9fe8f8672cd>:1: FutureWarning: The default value of regex will change from True to False in a future version. In addition, single character regular expressions will *not* be treated as literal strings when regex=True.\n",
            "  df['age'] = df['age'].str.replace(\"+\",\"\")\n"
          ]
        }
      ],
      "source": [
        "df['age'] = df['age'].str.replace(\"+\",\"\")\n",
        "df['age'] = df['age'].str.replace(\"u\",\"uu\")\n",
        "df['age'] = df['age'].str.replace(\"o\",\"oo\")\n",
        "df['age'] = df['age'].str.replace(\"24-50\",\"37\")\n",
        "df['age'] = df['age'].str.replace(\"45-55\",\"50\")"
      ]
    },
    {
      "cell_type": "markdown",
      "metadata": {
        "id": "vi3iQRDFT6a4"
      },
      "source": [
        "\n",
        "*  Replace the + with an empty value\n",
        "*   We substituted the age range for the mean\n",
        "\n"
      ]
    },
    {
      "cell_type": "code",
      "execution_count": 44,
      "metadata": {
        "colab": {
          "base_uri": "https://localhost:8080/"
        },
        "id": "6HJYsC6XRI3s",
        "outputId": "0416c877-612e-4918-ffdf-e8df6ba4376b"
      },
      "outputs": [
        {
          "output_type": "execute_result",
          "data": {
            "text/plain": [
              "array(['nan', '44', '49', '40', '23', '53', '33', '43', '56', '64', '37',\n",
              "       '59', '48', '54', '36', '45', '25', '34', '35', '38', '58', '50',\n",
              "       '47', '16', '52', '63', '65', '41', '27', '31', '61', '46', '42',\n",
              "       '62', '29', '39', '32', '28', '69', '67', '30', '22', '26', '51',\n",
              "       '70', '24', '18', '19', 'Old enoouugh', '57', '60', '66', '12',\n",
              "       'Many', '55', '72', '?', '21', '11', 'noo', '9', '68', '20', '6',\n",
              "       '10', '71', '90', '13', '312', '99', '7', 'hahahahaha', '88',\n",
              "       '39.4', '74', '102', 'oolder than dirt', '17', '15', '8', '75',\n",
              "       '5uu', 'Enoouugh', 'See quuestioon 2', '14', 'Over 50', '100',\n",
              "       '76', '1000', 'sixty-nine', '46 Hallooweens.', 'ancient', '77',\n",
              "       'OLD', 'oold', '73', '70.5', '1', 'MY NAME JEFF', '4',\n",
              "       '59 oon the day after Hallooween', 'oold enoouugh', 'yoouur moom',\n",
              "       'I can remember when Java was a cooool new languuage'],\n",
              "      dtype=object)"
            ]
          },
          "metadata": {},
          "execution_count": 44
        }
      ],
      "source": [
        "df['age'].unique()"
      ]
    },
    {
      "cell_type": "code",
      "execution_count": 45,
      "metadata": {
        "id": "PUsIigmY5EyM"
      },
      "outputs": [],
      "source": [
        "filter2 = df[\"age\"].isin(['Old enough','Many',  '?','no', 'hahahahaha','older than dirt', 'Enough','5u', 'See question 2','Over 50',\n",
        "                            'sixty-nine','46 Halloweens.','ancient','OLD','old','MY NAME JEFF',\n",
        "                            '59 on the day after Halloween','old enough','your mom', 'I can remember when Java was a cool new language'])"
      ]
    },
    {
      "cell_type": "code",
      "execution_count": 46,
      "metadata": {
        "colab": {
          "base_uri": "https://localhost:8080/"
        },
        "id": "F1qk0Om0PD1e",
        "outputId": "cd2845e5-a1ab-43cb-9fcd-3af4c784296a"
      },
      "outputs": [
        {
          "output_type": "execute_result",
          "data": {
            "text/plain": [
              "False    2452\n",
              "True        8\n",
              "Name: age, dtype: int64"
            ]
          },
          "metadata": {},
          "execution_count": 46
        }
      ],
      "source": [
        "filter2.value_counts()"
      ]
    },
    {
      "cell_type": "code",
      "execution_count": 47,
      "metadata": {
        "id": "yv5ews6bc5si"
      },
      "outputs": [],
      "source": [
        "digit=df['age'].str.len()"
      ]
    },
    {
      "cell_type": "code",
      "execution_count": 48,
      "metadata": {
        "id": "tsH4lyhtdMOG"
      },
      "outputs": [],
      "source": [
        "df.loc[digit!=2,'age']=np.nan"
      ]
    },
    {
      "cell_type": "code",
      "execution_count": 49,
      "metadata": {
        "colab": {
          "base_uri": "https://localhost:8080/"
        },
        "id": "6OFcHlmBdzH6",
        "outputId": "d549402f-e7dc-450d-d421-42ffa551278d"
      },
      "outputs": [
        {
          "output_type": "execute_result",
          "data": {
            "text/plain": [
              "array([nan, '44', '49', '40', '23', '53', '33', '43', '56', '64', '37',\n",
              "       '59', '48', '54', '36', '45', '25', '34', '35', '38', '58', '50',\n",
              "       '47', '16', '52', '63', '65', '41', '27', '31', '61', '46', '42',\n",
              "       '62', '29', '39', '32', '28', '69', '67', '30', '22', '26', '51',\n",
              "       '70', '24', '18', '19', '57', '60', '66', '12', '55', '72', '21',\n",
              "       '11', '68', '20', '10', '71', '90', '13', '99', '88', '74', '17',\n",
              "       '15', '75', '14', '76', '77', '73'], dtype=object)"
            ]
          },
          "metadata": {},
          "execution_count": 49
        }
      ],
      "source": [
        "df['age'].unique()"
      ]
    },
    {
      "cell_type": "code",
      "execution_count": 50,
      "metadata": {
        "colab": {
          "base_uri": "https://localhost:8080/"
        },
        "id": "-lYwQSs8eSGD",
        "outputId": "3e4779c1-ff58-4f40-bcd7-6ad939497ec9"
      },
      "outputs": [
        {
          "output_type": "execute_result",
          "data": {
            "text/plain": [
              "0        NaN\n",
              "1       44.0\n",
              "2       49.0\n",
              "3       40.0\n",
              "4       23.0\n",
              "        ... \n",
              "2455    24.0\n",
              "2456    33.0\n",
              "2457    26.0\n",
              "2458    58.0\n",
              "2459    66.0\n",
              "Name: age, Length: 2460, dtype: float64"
            ]
          },
          "metadata": {},
          "execution_count": 50
        }
      ],
      "source": [
        "pd.to_numeric(df['age'])"
      ]
    },
    {
      "cell_type": "code",
      "execution_count": 51,
      "metadata": {
        "id": "xpEsh4XM6Ffg"
      },
      "outputs": [],
      "source": [
        "df['age'] = df['age'].astype('float64')"
      ]
    },
    {
      "cell_type": "code",
      "execution_count": 52,
      "metadata": {
        "colab": {
          "base_uri": "https://localhost:8080/"
        },
        "id": "1ob5niCr5Rmb",
        "outputId": "03f31c31-739c-42b4-f1ea-19897fc3a495"
      },
      "outputs": [
        {
          "output_type": "execute_result",
          "data": {
            "text/plain": [
              "array([nan, 44., 49., 40., 23., 53., 33., 43., 56., 64., 37., 59., 48.,\n",
              "       54., 36., 45., 25., 34., 35., 38., 58., 50., 47., 16., 52., 63.,\n",
              "       65., 41., 27., 31., 61., 46., 42., 62., 29., 39., 32., 28., 69.,\n",
              "       67., 30., 22., 26., 51., 70., 24., 18., 19., 57., 60., 66., 12.,\n",
              "       55., 72., 21., 11., 68., 20., 10., 71., 90., 13., 99., 88., 74.,\n",
              "       17., 15., 75., 14., 76., 77., 73.])"
            ]
          },
          "metadata": {},
          "execution_count": 52
        }
      ],
      "source": [
        "df['age'].unique()"
      ]
    },
    {
      "cell_type": "markdown",
      "metadata": {
        "id": "4BFzdv8VQf2i"
      },
      "source": []
    },
    {
      "cell_type": "code",
      "execution_count": 53,
      "metadata": {
        "colab": {
          "base_uri": "https://localhost:8080/"
        },
        "id": "N8YxHuxZPkf9",
        "outputId": "51e9efa6-e7b6-4c17-b2b2-79a8fb7f6e58"
      },
      "outputs": [
        {
          "output_type": "execute_result",
          "data": {
            "text/plain": [
              "124"
            ]
          },
          "metadata": {},
          "execution_count": 53
        }
      ],
      "source": [
        "df['age'].isnull().sum()"
      ]
    },
    {
      "cell_type": "code",
      "execution_count": 54,
      "metadata": {
        "colab": {
          "base_uri": "https://localhost:8080/"
        },
        "id": "z7Tly1B_nJhS",
        "outputId": "107d3ff9-06c9-411d-c1f9-59c1014dbdda"
      },
      "outputs": [
        {
          "output_type": "execute_result",
          "data": {
            "text/plain": [
              "count    2336.000000\n",
              "mean       42.198630\n",
              "std        11.733731\n",
              "min        10.000000\n",
              "25%        34.000000\n",
              "50%        42.000000\n",
              "75%        50.000000\n",
              "max        99.000000\n",
              "Name: age, dtype: float64"
            ]
          },
          "metadata": {},
          "execution_count": 54
        }
      ],
      "source": [
        "df['age'].describe()"
      ]
    },
    {
      "cell_type": "code",
      "execution_count": 55,
      "metadata": {
        "colab": {
          "base_uri": "https://localhost:8080/"
        },
        "id": "awNEHOM12CYS",
        "outputId": "ea109a44-9e2a-4331-b9f2-a28b805927cd"
      },
      "outputs": [
        {
          "output_type": "execute_result",
          "data": {
            "text/plain": [
              "42.0"
            ]
          },
          "metadata": {},
          "execution_count": 55
        }
      ],
      "source": [
        "df['age'].median()"
      ]
    },
    {
      "cell_type": "code",
      "execution_count": 56,
      "metadata": {
        "colab": {
          "base_uri": "https://localhost:8080/"
        },
        "id": "Zn5Kt0vZ2g8j",
        "outputId": "7330b87f-b941-437c-e021-7fb571177c84"
      },
      "outputs": [
        {
          "output_type": "execute_result",
          "data": {
            "text/plain": [
              "0    40.0\n",
              "dtype: float64"
            ]
          },
          "metadata": {},
          "execution_count": 56
        }
      ],
      "source": [
        "df['age'].mode()"
      ]
    },
    {
      "cell_type": "code",
      "execution_count": 57,
      "metadata": {
        "colab": {
          "base_uri": "https://localhost:8080/"
        },
        "id": "7z-uOz4o2g05",
        "outputId": "4a5b1c75-5a16-4a0d-deec-6dbd099d8a1b"
      },
      "outputs": [
        {
          "output_type": "execute_result",
          "data": {
            "text/plain": [
              "42.1986301369863"
            ]
          },
          "metadata": {},
          "execution_count": 57
        }
      ],
      "source": [
        "df['age'].mean()"
      ]
    },
    {
      "cell_type": "markdown",
      "metadata": {
        "id": "lT_nm25m3OGx"
      },
      "source": [
        "There is no significant difference between the median and median value, this indicates that there are no external values so we can replace the nan values with any of them, but here we will choose the mean"
      ]
    },
    {
      "cell_type": "code",
      "execution_count": 58,
      "metadata": {
        "id": "FvPUJIr33Lkg"
      },
      "outputs": [],
      "source": [
        "df['age'].fillna(df['age'].mean(), inplace = True)"
      ]
    },
    {
      "cell_type": "code",
      "execution_count": 59,
      "metadata": {
        "colab": {
          "base_uri": "https://localhost:8080/"
        },
        "id": "mSkpFokp6arc",
        "outputId": "55902852-e380-449b-d0f4-5a07cc70c36d"
      },
      "outputs": [
        {
          "output_type": "execute_result",
          "data": {
            "text/plain": [
              "0       42.19863\n",
              "1       44.00000\n",
              "2       49.00000\n",
              "3       40.00000\n",
              "4       23.00000\n",
              "          ...   \n",
              "2455    24.00000\n",
              "2456    33.00000\n",
              "2457    26.00000\n",
              "2458    58.00000\n",
              "2459    66.00000\n",
              "Name: age, Length: 2460, dtype: float64"
            ]
          },
          "metadata": {},
          "execution_count": 59
        }
      ],
      "source": [
        "df['age']"
      ]
    },
    {
      "cell_type": "code",
      "execution_count": 60,
      "metadata": {
        "id": "qzP1dFz76f8l"
      },
      "outputs": [],
      "source": [
        "df['age'] = df['age'].astype('int')"
      ]
    },
    {
      "cell_type": "code",
      "execution_count": 61,
      "metadata": {
        "colab": {
          "base_uri": "https://localhost:8080/"
        },
        "id": "sqllniRP6leQ",
        "outputId": "99f1bb66-7fb4-4401-b6f8-4a211bb2e4ba"
      },
      "outputs": [
        {
          "output_type": "execute_result",
          "data": {
            "text/plain": [
              "0       42\n",
              "1       44\n",
              "2       49\n",
              "3       40\n",
              "4       23\n",
              "        ..\n",
              "2455    24\n",
              "2456    33\n",
              "2457    26\n",
              "2458    58\n",
              "2459    66\n",
              "Name: age, Length: 2460, dtype: int64"
            ]
          },
          "metadata": {},
          "execution_count": 61
        }
      ],
      "source": [
        "df['age']"
      ]
    },
    {
      "cell_type": "code",
      "execution_count": 62,
      "metadata": {
        "colab": {
          "base_uri": "https://localhost:8080/",
          "height": 459
        },
        "id": "ls2XAHDc6qXv",
        "outputId": "f90d2c7b-f036-46d0-8b7e-2c4c71b7f61e"
      },
      "outputs": [
        {
          "output_type": "execute_result",
          "data": {
            "text/plain": [
              "(array([ 0,  1,  2,  3,  4,  5,  6,  7,  8,  9, 10, 11, 12, 13, 14, 15, 16,\n",
              "        17, 18, 19, 20, 21, 22, 23, 24, 25, 26, 27, 28, 29, 30, 31, 32, 33,\n",
              "        34, 35, 36, 37, 38, 39, 40, 41, 42, 43, 44, 45, 46, 47, 48, 49, 50,\n",
              "        51, 52, 53, 54, 55, 56, 57, 58, 59, 60, 61, 62, 63, 64, 65, 66, 67,\n",
              "        68, 69, 70]), <a list of 71 Text major ticklabel objects>)"
            ]
          },
          "metadata": {},
          "execution_count": 62
        },
        {
          "output_type": "display_data",
          "data": {
            "text/plain": [
              "<Figure size 360x360 with 1 Axes>"
            ],
            "image/png": "[encoded data removed]"
          },
          "metadata": {
            "needs_background": "light"
          }
        }
      ],
      "source": [
        "sns.catplot(x=\"age\",data=df,kind='count')\n",
        "plt.xticks(rotation=90)"
      ]
    },
    {
      "cell_type": "code",
      "execution_count": 63,
      "metadata": {
        "colab": {
          "base_uri": "https://localhost:8080/",
          "height": 298
        },
        "id": "uuxwzx-PlOt3",
        "outputId": "87b33f04-f4ac-492e-824c-3afbbdafd76c"
      },
      "outputs": [
        {
          "output_type": "execute_result",
          "data": {
            "text/plain": [
              "<matplotlib.axes._subplots.AxesSubplot at 0x7f3b4349cb20>"
            ]
          },
          "metadata": {},
          "execution_count": 63
        },
        {
          "output_type": "display_data",
          "data": {
            "text/plain": [
              "<Figure size 432x288 with 1 Axes>"
            ],
            "image/png": "[encoded data removed]"
          },
          "metadata": {
            "needs_background": "light"
          }
        }
      ],
      "source": [
        "bins = \"auto\"\n",
        "sns.histplot(data=df, x=\"age\", bins=bins)"
      ]
    },
    {
      "cell_type": "markdown",
      "metadata": {
        "id": "YXuxJdj5Ygxp"
      },
      "source": [
        "# **8 - clean ` country` column**\n",
        "> tip : note that country column has country names with different writing ways \n",
        "  - use fuzzywuzzy to deal with this problem\n",
        "  - you should choose which best value to put in place of these NaNs ( mode, unknown,other ....etc)"
      ]
    },
    {
      "cell_type": "code",
      "execution_count": 64,
      "metadata": {
        "colab": {
          "base_uri": "https://localhost:8080/"
        },
        "id": "9OOrC7KSI0Es",
        "outputId": "5ee53202-e9cf-44a1-9dd7-2a9eb043c3a4"
      },
      "outputs": [
        {
          "output_type": "stream",
          "name": "stdout",
          "text": [
            "Looking in indexes: https://pypi.org/simple, https://us-python.pkg.dev/colab-wheels/public/simple/\n",
            "Requirement already satisfied: fuzzywuzzy in /usr/local/lib/python3.8/dist-packages (0.18.0)\n"
          ]
        }
      ],
      "source": [
        "pip install fuzzywuzzy"
      ]
    },
    {
      "cell_type": "code",
      "execution_count": 65,
      "metadata": {
        "colab": {
          "base_uri": "https://localhost:8080/"
        },
        "id": "7yN8cHN3I38A",
        "outputId": "e819e5a5-c1e0-4333-f275-afa97d31e1ca"
      },
      "outputs": [
        {
          "output_type": "stream",
          "name": "stderr",
          "text": [
            "/usr/local/lib/python3.8/dist-packages/fuzzywuzzy/fuzz.py:11: UserWarning: Using slow pure-python SequenceMatcher. Install python-Levenshtein to remove this warning\n",
            "  warnings.warn('Using slow pure-python SequenceMatcher. Install python-Levenshtein to remove this warning')\n"
          ]
        }
      ],
      "source": [
        "from fuzzywuzzy import process"
      ]
    },
    {
      "cell_type": "code",
      "execution_count": 66,
      "metadata": {
        "id": "IoEflRDXJy44"
      },
      "outputs": [],
      "source": [
        "df_copy=df.copy()"
      ]
    },
    {
      "cell_type": "code",
      "execution_count": 67,
      "metadata": {
        "id": "U1OC8N64r99f"
      },
      "outputs": [],
      "source": [
        "df_copy = df_copy.rename(columns = {'Q4: COUNTRY' : 'country'})"
      ]
    },
    {
      "cell_type": "code",
      "execution_count": 67,
      "metadata": {
        "id": "E9lJOoPNYgxq"
      },
      "outputs": [],
      "source": []
    },
    {
      "cell_type": "code",
      "execution_count": 68,
      "metadata": {
        "id": "L00LE8fgr19b"
      },
      "outputs": [],
      "source": [
        "df_copy['country']=df_copy['country'].str.lower()\n",
        "df_copy['country']=df_copy['country'].str.strip()"
      ]
    },
    {
      "cell_type": "code",
      "execution_count": 69,
      "metadata": {
        "colab": {
          "base_uri": "https://localhost:8080/"
        },
        "id": "A2ppGeuUKQkk",
        "outputId": "d71c226b-f17e-4c86-aa0e-48aad9e85dfe"
      },
      "outputs": [
        {
          "output_type": "execute_result",
          "data": {
            "text/plain": [
              "array([nan, 'usa', 'us', 'canada', 'murica', 'united states', 'uk',\n",
              "       'united kingdom', 'united staes', 'united states of america',\n",
              "       'uae', 'england', 'mexico', 'u.s.a.', 'usausausa', 'america',\n",
              "       'france', 'finland', 'unhinged states', 'us of a', 'unites states',\n",
              "       'the united states', 'north carolina', 'unied states',\n",
              "       'netherlands', 'germany', 'europe', 'earth', 'u s', 'u.s.', 'u.k.',\n",
              "       'costa rica', 'the united states of america', 'unite states',\n",
              "       'cascadia', 'australia', 'insanity lately', 'greece',\n",
              "       'usa? hard to tell anymore..', \"'merica\", 'usas', 'pittsburgh',\n",
              "       'united state', 'a', 'can', 'canae', 'new york', 'trumpistan',\n",
              "       'ireland', 'united sates', 'korea', 'california', 'japan',\n",
              "       'south africa',\n",
              "       'i pretend to be from canada, but i am really from the united states.',\n",
              "       'iceland', 'canada`', 'scotland', 'denmark', 'united stated',\n",
              "       'switzerland', 'ahem....amerca', 'ud', 'south korea', 'new jersey',\n",
              "       'indonesia', 'united ststes', 'the netherlands', 'united statss',\n",
              "       'endland', 'atlantis', 'murrika', 'usa! usa! usa!', 'usaa',\n",
              "       'alaska', 'soviet canuckistan', 'n. america', 'singapore', 'ussa',\n",
              "       'china', 'taiwan', 'hong kong', 'spain', 'sweden', 'narnia',\n",
              "       'u s a', 'united statea', 'subscribe to dm4uz3 on youtube',\n",
              "       'usa usa usa!!!!', \"i don't know anymore\", 'fear and loathing'],\n",
              "      dtype=object)"
            ]
          },
          "metadata": {},
          "execution_count": 69
        }
      ],
      "source": [
        "df_copy['country'].unique()"
      ]
    },
    {
      "cell_type": "code",
      "execution_count": 69,
      "metadata": {
        "id": "gHeYNx0nr15N"
      },
      "outputs": [],
      "source": []
    },
    {
      "cell_type": "code",
      "execution_count": 70,
      "metadata": {
        "id": "i9S_9kyHLOzc"
      },
      "outputs": [],
      "source": [
        "all_countries_world=['Afghanistan'\n",
        ",'Albania'\n",
        ",'Algeria'\n",
        ",'Andorra'\n",
        ",'Angola'\n",
        ",'Antigua and Barbuda'\n",
        ",'Argentina'\n",
        ",'Armenia'\n",
        ",'Australia'\n",
        ",'Austria'\n",
        ",'Azerbaijan'\n",
        ",'america'\n",
        ",'The Bahamas'\n",
        ",'Bahrain'\n",
        ",'Bangladesh'\n",
        ",'Barbados'\n",
        ",'Belarus'\n",
        ",'Belgium'\n",
        ",'Belize'\n",
        ",'Benin'\n",
        ",'Bhutan'\n",
        ",'Bolivia'\n",
        ",'Bosnia and Herzegovina'\n",
        ",'Botswana'\n",
        ",'Brazil'\n",
        ",'Brunei'\n",
        ",'Bulgaria'\n",
        ",'Burkina Faso'\n",
        ",'Burundi'\n",
        "\n",
        ",'Cabo Verde'\n",
        ",'Cambodia'\n",
        ",'Cameroon'\n",
        ",'Canada'\n",
        ",'Central African Republic'\n",
        ",'Chad'\n",
        ",'Chile'\n",
        ",'China'\n",
        ",'Colombia'\n",
        ",'Comoros'\n",
        ",'Congo, Democratic Republic of the'\n",
        ",'Congo, Republic of the'\n",
        ",'Costa Rica'\n",
        ",'Côte d’Ivoire'\n",
        ",'Croatia'\n",
        ",'Cuba'\n",
        ",'Cyprus'\n",
        ",'Czech Republic'\n",
        "\n",
        ",'Denmark'\n",
        ",'Djibouti'\n",
        ",'Dominica'\n",
        ",'Dominican Republic'\n",
        "\n",
        ",'East Timor (Timor-Leste)'\n",
        ",'Ecuador'\n",
        ",'Egypt'\n",
        ",'El Salvador'\n",
        ",'Equatorial Guinea'\n",
        ",'Eritrea'\n",
        ",'Estonia'\n",
        ",'Eswatini'\n",
        ",'Ethiopia'\n",
        "\n",
        ",'Fiji'\n",
        ",'Finland'\n",
        ",'France'\n",
        "\n",
        ",'Gabon'\n",
        ",'The Gambia'\n",
        ",'Georgia'\n",
        ",'Germany'\n",
        ",'Ghana'\n",
        ",'Greece'\n",
        ",'Grenada'\n",
        ",'Guatemala'\n",
        ",'Guinea'\n",
        ",'Guinea-Bissau'\n",
        ",'Guyana'\n",
        "\n",
        ",'Haiti'\n",
        ",'Honduras'\n",
        ",'Hungary'\n",
        "\n",
        ",'Iceland'\n",
        ",'India'\n",
        ",'Indonesia'\n",
        ",'Iran'\n",
        ",'Iraq'\n",
        ",'Ireland'\n",
        "\n",
        ",'Italy'\n",
        "\n",
        ",'Jamaica'\n",
        ",'Japan'\n",
        ",'Jordan'\n",
        "\n",
        ",'Kazakhstan'\n",
        ",'Kenya'\n",
        ",'Kiribati'\n",
        ",'Korea North'\n",
        ",'Korea South'\n",
        ",'Kosovo'\n",
        ",'Kuwait'\n",
        ",'Kyrgyzstan'\n",
        "\n",
        ",'Laos'\n",
        ",'Latvia'\n",
        ",'Lebanon'\n",
        ",'Lesotho'\n",
        ",'Liberia'\n",
        ",'Libya'\n",
        ",'Liechtenstein'\n",
        ",'Lithuania'\n",
        ",'Luxembourg'\n",
        "\n",
        ",'Madagascar'\n",
        ",'Malawi'\n",
        ",'Malaysia'\n",
        ",'Maldives'\n",
        ",'Mali'\n",
        ",'Malta'\n",
        ",'Marshall Islands'\n",
        ",'Mauritania'\n",
        ",'Mauritius'\n",
        ",'Mexico'\n",
        ",'Micronesia, Federated States of'\n",
        ",'Moldova'\n",
        ",'Monaco'\n",
        ",'Mongolia'\n",
        ",'Montenegro'\n",
        ",'Morocco'\n",
        ",'Mozambique'\n",
        ",'Myanmar (Burma)'\n",
        "\n",
        ",'Namibia'\n",
        ",'Nauru'\n",
        ",'Nepal'\n",
        ",'Netherlands'\n",
        ",'New Zealand'\n",
        ",'Nicaragua'\n",
        ",'Niger'\n",
        ",'Nigeria'\n",
        ",'North Macedonia'\n",
        ",'Norway'\n",
        "\n",
        ",'Oman'\n",
        "\n",
        ",'Pakistan'\n",
        ",'Palau'\n",
        ",'Panama'\n",
        ",'Papua New Guinea'\n",
        ",'Paraguay'\n",
        ",'Peru'\n",
        ",'Philippines'\n",
        ",'Poland'\n",
        ",'Portugal'\n",
        "\n",
        ",'Qatar'\n",
        "\n",
        ",'Romania'\n",
        ",'Russia'\n",
        ",'Rwanda'\n",
        "\n",
        ",'Saint Kitts and Nevis'\n",
        ",'Saint Lucia'\n",
        ",'Saint Vincent and the Grenadines'\n",
        ",'Samoa'\n",
        ",'San Marino'\n",
        ",'Sao Tome and Principe'\n",
        ",'Saudi Arabia'\n",
        ",'Senegal'\n",
        ",'Serbia'\n",
        ",'Seychelles'\n",
        ",'Sierra Leone'\n",
        ",'Singapore'\n",
        ",'Slovakia'\n",
        ",'Slovenia'\n",
        ",'Solomon Islands'\n",
        ",'Somalia'\n",
        ",'South Africa'\n",
        ",'Spain'\n",
        ",'Sri Lanka'\n",
        ",'Sudan'\n",
        ",'Sudan, South'\n",
        ",'Suriname'\n",
        ",'Sweden'\n",
        ",'Switzerland'\n",
        ",'Syria'\n",
        "\n",
        ",'Taiwan'\n",
        ",'Tajikistan'\n",
        ",'Tanzania'\n",
        ",'Thailand'\n",
        ",'Togo'\n",
        ",'Tonga'\n",
        ",'Trinidad and Tobago'\n",
        ",'Tunisia'\n",
        ",'Turkey'\n",
        ",'Turkmenistan'\n",
        ",'Tuvalu'\n",
        "\n",
        ",'Uganda'\n",
        ",'Ukraine'\n",
        ",'United Arab Emirates'\n",
        ",'United Kingdom'\n",
        ",'United States'\n",
        ",'Uruguay'\n",
        ",'Uzbekistan'\n",
        "\n",
        ",'Vanuatu'\n",
        ",'Vatican City'\n",
        ",'Venezuela'\n",
        ",'Vietnam'\n",
        "\n",
        ",'Yemen'\n",
        "\n",
        ",'Zambia'\n",
        ",'Zimbabwe']"
      ]
    },
    {
      "cell_type": "code",
      "execution_count": 71,
      "metadata": {
        "id": "MQT9tqJSr11t"
      },
      "outputs": [],
      "source": [
        "# Iterate through all_countries_world\n",
        "for cuisine in all_countries_world:  \n",
        "  # Create a list of matches, comparing cuisine with the cuisine_type column\n",
        "  matches = process.extract(cuisine, df_copy['country'], limit=len(df_copy.country))\n",
        "\n",
        "\n",
        "  # Iterate through the list of matches\n",
        "  for match in matches:\n",
        "     # Check whether the similarity score is greater than or equal to 80\n",
        "    if match[1] >= 80:\n",
        "      # If it is, select all rows where the cuisine_type is spelled this way, and set them to the correct cuisine\n",
        "      df_copy.loc[df_copy['country'] == match[0]] = cuisine\n",
        "      \n"
      ]
    },
    {
      "cell_type": "code",
      "execution_count": 72,
      "metadata": {
        "colab": {
          "base_uri": "https://localhost:8080/"
        },
        "id": "w487H-SPr1uQ",
        "outputId": "9828a733-01ed-4b52-84e2-f9449ca2f922"
      },
      "outputs": [
        {
          "output_type": "execute_result",
          "data": {
            "text/plain": [
              "array([nan, 'usa', 'Austria', 'Canada', 'murica', 'United States',\n",
              "       'Ukraine', 'United Kingdom', 'america', 'uae', 'england', 'Mexico',\n",
              "       'u.s.a.', 'usausausa', 'France', 'Finland', 'Czech Republic',\n",
              "       'north carolina', 'Netherlands', 'Germany', 'europe', 'earth',\n",
              "       'u.k.', 'Costa Rica', 'cascadia', 'insanity lately', 'Greece',\n",
              "       'usa? hard to tell anymore..', 'usas', 'pittsburgh', 'Albania',\n",
              "       'canae', 'Papua New Guinea', 'trumpistan', 'Ireland',\n",
              "       'Korea South', 'california', 'Japan', 'South Africa', 'scotland',\n",
              "       'Denmark', 'Switzerland', 'Saudi Arabia', 'Indonesia', 'endland',\n",
              "       'atlantis', 'murrika', 'usa! usa! usa!', 'usaa', 'alaska',\n",
              "       'soviet canuckistan', 'Singapore', 'Russia', 'China', 'Taiwan',\n",
              "       'hong kong', 'Spain', 'Sweden', 'narnia', 'u s a',\n",
              "       'subscribe to dm4uz3 on youtube', 'usa usa usa!!!!',\n",
              "       \"i don't know anymore\", 'Sao Tome and Principe'], dtype=object)"
            ]
          },
          "metadata": {},
          "execution_count": 72
        }
      ],
      "source": [
        "df_copy['country'].unique()"
      ]
    },
    {
      "cell_type": "code",
      "execution_count": 73,
      "metadata": {
        "colab": {
          "base_uri": "https://localhost:8080/"
        },
        "id": "_7LXXbwtpIDZ",
        "outputId": "db7d6726-b0a4-4d5b-e1b7-280ca2f1e225"
      },
      "outputs": [
        {
          "output_type": "execute_result",
          "data": {
            "text/plain": [
              "{'Austria',\n",
              " 'Czech Republic',\n",
              " 'Korea South',\n",
              " 'Papua New Guinea',\n",
              " 'Russia',\n",
              " 'Saudi Arabia',\n",
              " 'South Africa',\n",
              " 'europe',\n",
              " 'murica',\n",
              " 'murrika',\n",
              " 'pittsburgh',\n",
              " 'soviet canuckistan',\n",
              " 'subscribe to dm4uz3 on youtube',\n",
              " 'trumpistan',\n",
              " 'u s a',\n",
              " 'u.k.',\n",
              " 'u.s.a.',\n",
              " 'uae',\n",
              " 'usa',\n",
              " 'usa usa usa!!!!',\n",
              " 'usa! usa! usa!',\n",
              " 'usa? hard to tell anymore..',\n",
              " 'usaa',\n",
              " 'usas',\n",
              " 'usausausa'}"
            ]
          },
          "metadata": {},
          "execution_count": 73
        }
      ],
      "source": [
        "set([x for x in df_copy.country if 'u' in str(x)])  # unique values with 'u'"
      ]
    },
    {
      "cell_type": "code",
      "execution_count": 74,
      "metadata": {
        "id": "zU6q0OzepMHs"
      },
      "outputs": [],
      "source": [
        "correct_values=['America','usa']"
      ]
    },
    {
      "cell_type": "code",
      "execution_count": 75,
      "metadata": {
        "id": "U6jZY6KWpzi4"
      },
      "outputs": [],
      "source": [
        "df_copy['country'] = df_copy['country'].str.replace(\"murrika\",\"usa\")\n",
        "df_copy['country'] = df_copy['country'].str.replace(\"murica\",\"usa\")"
      ]
    },
    {
      "cell_type": "code",
      "execution_count": 76,
      "metadata": {
        "id": "Uc-7m_QCrdEs"
      },
      "outputs": [],
      "source": [
        "matches = process.extract(\"usa\", df_copy['country'], limit=len(df_copy.country))\n",
        "\n",
        "\n",
        "  # Iterate through the list of matches\n",
        "for match in matches:\n",
        "     # Check whether the similarity score is greater than or equal to 80\n",
        "    if match[1] >=75:\n",
        "      # If it is, select all rows where the cuisine_type is spelled this way, and set them to the correct cuisine\n",
        "      df_copy.loc[df_copy['country'] == match[0]] = \"usa\"\n",
        "      "
      ]
    },
    {
      "cell_type": "code",
      "execution_count": 77,
      "metadata": {
        "colab": {
          "base_uri": "https://localhost:8080/"
        },
        "id": "WiwJRdmysH8t",
        "outputId": "59d31f5d-f1ff-4f0e-c6a5-791382351fef"
      },
      "outputs": [
        {
          "output_type": "execute_result",
          "data": {
            "text/plain": [
              "{'Austria',\n",
              " 'Czech Republic',\n",
              " 'Korea South',\n",
              " 'Papua New Guinea',\n",
              " 'Russia',\n",
              " 'Saudi Arabia',\n",
              " 'South Africa',\n",
              " 'europe',\n",
              " 'pittsburgh',\n",
              " 'soviet canuckistan',\n",
              " 'subscribe to dm4uz3 on youtube',\n",
              " 'trumpistan',\n",
              " 'u.k.',\n",
              " 'uae',\n",
              " 'usa',\n",
              " 'usa? hard to tell anymore..'}"
            ]
          },
          "metadata": {},
          "execution_count": 77
        }
      ],
      "source": [
        "set([x for x in df_copy.country if 'u' in str(x)])  # unique values with 'u'"
      ]
    },
    {
      "cell_type": "code",
      "execution_count": 78,
      "metadata": {
        "id": "cR_3GCh1zOg1"
      },
      "outputs": [],
      "source": [
        "df_copy['country'] = df_copy['country'].str.replace(\"uae\",\"usa\")\n",
        "df_copy['country'] = df_copy['country'].str.replace(\"musa\",\"usa\")\n"
      ]
    },
    {
      "cell_type": "code",
      "execution_count": 79,
      "metadata": {
        "id": "ArIuRW0isfWn"
      },
      "outputs": [],
      "source": [
        "df_copy.drop(df_copy[df_copy['country'] =='subscribe to dm4uz3 on youtube'].index, inplace=True)"
      ]
    },
    {
      "cell_type": "code",
      "execution_count": 80,
      "metadata": {
        "colab": {
          "base_uri": "https://localhost:8080/"
        },
        "id": "AygiKPz80EA8",
        "outputId": "685a89df-cae7-47a3-acde-d4407b7347c0"
      },
      "outputs": [
        {
          "output_type": "stream",
          "name": "stderr",
          "text": [
            "<ipython-input-80-3ad7b29fe572>:1: FutureWarning: The default value of regex will change from True to False in a future version.\n",
            "  df_copy['country'] = df_copy['country'].str.replace('usa? hard to tell anymore..',\"usa\")\n"
          ]
        }
      ],
      "source": [
        "df_copy['country'] = df_copy['country'].str.replace('usa? hard to tell anymore..',\"usa\")"
      ]
    },
    {
      "cell_type": "code",
      "execution_count": 81,
      "metadata": {
        "id": "8kgi7c6t0KRY"
      },
      "outputs": [],
      "source": [
        "df_copy['country'][df_copy['country'] ==\"usa? hard to tell anymore..\"] = \"usa\"    "
      ]
    },
    {
      "cell_type": "code",
      "execution_count": 82,
      "metadata": {
        "colab": {
          "base_uri": "https://localhost:8080/"
        },
        "id": "jpS-6I34tteG",
        "outputId": "66c069a1-bce8-44b4-a1af-ba291e97a0e0"
      },
      "outputs": [
        {
          "output_type": "execute_result",
          "data": {
            "text/plain": [
              "{'Austria',\n",
              " 'Czech Republic',\n",
              " 'Korea South',\n",
              " 'Papua New Guinea',\n",
              " 'Russia',\n",
              " 'Saudi Arabia',\n",
              " 'South Africa',\n",
              " 'europe',\n",
              " 'pittsburgh',\n",
              " 'soviet canuckistan',\n",
              " 'trumpistan',\n",
              " 'u.k.',\n",
              " 'usa'}"
            ]
          },
          "metadata": {},
          "execution_count": 82
        }
      ],
      "source": [
        "set([x for x in df_copy.country if 'u' in str(x)])  # unique values with 'u'"
      ]
    },
    {
      "cell_type": "code",
      "source": [
        "df_copy['country'].unique()"
      ],
      "metadata": {
        "colab": {
          "base_uri": "https://localhost:8080/"
        },
        "id": "L8UGQ6pfI-6t",
        "outputId": "f7c12bc2-d483-4ae9-8940-44c874e32dda"
      },
      "execution_count": 83,
      "outputs": [
        {
          "output_type": "execute_result",
          "data": {
            "text/plain": [
              "array([nan, 'usa', 'Austria', 'Canada', 'United States', 'Ukraine',\n",
              "       'United Kingdom', 'america', 'england', 'Mexico', 'France',\n",
              "       'Finland', 'Czech Republic', 'north carolina', 'Netherlands',\n",
              "       'Germany', 'europe', 'earth', 'u.k.', 'Costa Rica', 'cascadia',\n",
              "       'insanity lately', 'Greece', 'pittsburgh', 'Albania', 'canae',\n",
              "       'Papua New Guinea', 'trumpistan', 'Ireland', 'Korea South',\n",
              "       'california', 'Japan', 'South Africa', 'scotland', 'Denmark',\n",
              "       'Switzerland', 'Saudi Arabia', 'Indonesia', 'endland', 'atlantis',\n",
              "       'alaska', 'soviet canuckistan', 'Singapore', 'Russia', 'China',\n",
              "       'Taiwan', 'hong kong', 'Spain', 'Sweden', 'narnia',\n",
              "       \"i don't know anymore\", 'Sao Tome and Principe'], dtype=object)"
            ]
          },
          "metadata": {},
          "execution_count": 83
        }
      ]
    },
    {
      "cell_type": "code",
      "source": [
        "df_copy['country'] = df_copy['country'].str.replace(\"usa\",\"United States\")\n",
        "df_copy['country'] = df_copy['country'].str.replace(\"america\",\"United States\")\n",
        "df_copy.drop(df_copy[df_copy['country'] ==\"i don't know anymore\"].index, inplace=True)"
      ],
      "metadata": {
        "id": "bULJ8JSb6v6E"
      },
      "execution_count": 84,
      "outputs": []
    },
    {
      "cell_type": "code",
      "source": [
        "df_copy['country'].unique()"
      ],
      "metadata": {
        "colab": {
          "base_uri": "https://localhost:8080/"
        },
        "id": "X04coOeK6_8Q",
        "outputId": "ecd8acd6-cf82-42a0-cd25-39d170ad6f17"
      },
      "execution_count": 85,
      "outputs": [
        {
          "output_type": "execute_result",
          "data": {
            "text/plain": [
              "array([nan, 'United States', 'Austria', 'Canada', 'Ukraine',\n",
              "       'United Kingdom', 'england', 'Mexico', 'France', 'Finland',\n",
              "       'Czech Republic', 'north carolina', 'Netherlands', 'Germany',\n",
              "       'europe', 'earth', 'u.k.', 'Costa Rica', 'cascadia',\n",
              "       'insanity lately', 'Greece', 'pittsburgh', 'Albania', 'canae',\n",
              "       'Papua New Guinea', 'trumpistan', 'Ireland', 'Korea South',\n",
              "       'california', 'Japan', 'South Africa', 'scotland', 'Denmark',\n",
              "       'Switzerland', 'Saudi Arabia', 'Indonesia', 'endland', 'atlantis',\n",
              "       'alaska', 'soviet canuckistan', 'Singapore', 'Russia', 'China',\n",
              "       'Taiwan', 'hong kong', 'Spain', 'Sweden', 'narnia',\n",
              "       'Sao Tome and Principe'], dtype=object)"
            ]
          },
          "metadata": {},
          "execution_count": 85
        }
      ]
    },
    {
      "cell_type": "code",
      "source": [
        "df_copy['country'].isnull().sum()"
      ],
      "metadata": {
        "colab": {
          "base_uri": "https://localhost:8080/"
        },
        "id": "tz_K3hupKjUi",
        "outputId": "286e59e9-3e85-4769-fd58-37fce6bb2e03"
      },
      "execution_count": 86,
      "outputs": [
        {
          "output_type": "execute_result",
          "data": {
            "text/plain": [
              "69"
            ]
          },
          "metadata": {},
          "execution_count": 86
        }
      ]
    },
    {
      "cell_type": "code",
      "source": [
        "df_copy['country'].fillna(df_copy['country'].mode(), inplace=True)"
      ],
      "metadata": {
        "id": "4WJ7gmmaKqxb"
      },
      "execution_count": 87,
      "outputs": []
    },
    {
      "cell_type": "markdown",
      "metadata": {
        "id": "f-Sok1fjYgxq"
      },
      "source": [
        "# **9 - clean ` area` column**\n",
        "> tip : area column has the same problem as country columns , but looking at all it's unique values may give us another way to deal with it rather than try to fix it"
      ]
    },
    {
      "cell_type": "code",
      "execution_count": 88,
      "metadata": {
        "colab": {
          "base_uri": "https://localhost:8080/",
          "height": 353
        },
        "id": "UxXLMI3GYgxr",
        "outputId": "f105f18e-eb2d-42a0-96cd-e808ed9a67b2"
      },
      "outputs": [
        {
          "output_type": "execute_result",
          "data": {
            "text/plain": [
              "    going out gender  age Q4: COUNTRY Q5: STATE, PROVINCE, COUNTY, ETC  \\\n",
              "431        No   Male   35         usa                               ca   \n",
              "\n",
              "    Q6 | 100 Grand Bar  \\\n",
              "431                NaN   \n",
              "\n",
              "    Q6 | Anonymous brown globs that come in black and orange wrappers\\t(a.k.a. Mary Janes)  \\\n",
              "431                                                NaN                                       \n",
              "\n",
              "    Q6 | Any full-sized candy bar Q6 | Black Jacks Q6 | Bonkers (the candy)  \\\n",
              "431                           NaN              NaN                      NaN   \n",
              "\n",
              "    Q6 | Bonkers (the board game) Q6 | Bottle Caps Q6 | Box'o'Raisins  \\\n",
              "431                           NaN              NaN                NaN   \n",
              "\n",
              "    Q6 | Broken glow stick Q6 | Butterfinger Q6 | Cadbury Creme Eggs  \\\n",
              "431                    NaN               NaN                     NaN   \n",
              "\n",
              "    Q6 | Candy Corn  \\\n",
              "431             NaN   \n",
              "\n",
              "    Q6 | Candy that is clearly just the stuff given out for free at restaurants  \\\n",
              "431                                                NaN                            \n",
              "\n",
              "    Q6 | Caramellos Q6 | Cash, or other forms of legal tender Q6 | Chardonnay  \\\n",
              "431             NaN                                       NaN             NaN   \n",
              "\n",
              "    Q6 | Chick-o-Sticks (we don’t know what that is) Q6 | Chiclets  \\\n",
              "431                                              NaN           NaN   \n",
              "\n",
              "    Q6 | Coffee Crisp Q6 | Creepy Religious comics/Chick Tracts  \\\n",
              "431               NaN                                       NaN   \n",
              "\n",
              "    Q6 | Dental paraphenalia Q6 | Dots Q6 | Dove Bars Q6 | Fuzzy Peaches  \\\n",
              "431                      NaN       NaN            NaN                NaN   \n",
              "\n",
              "    Q6 | Generic Brand Acetaminophen Q6 | Glow sticks Q6 | Goo Goo Clusters  \\\n",
              "431                              NaN              NaN                   NaN   \n",
              "\n",
              "    Q6 | Good N' Plenty Q6 | Gum from baseball cards  \\\n",
              "431                 NaN                          NaN   \n",
              "\n",
              "    Q6 | Gummy Bears straight up Q6 | Hard Candy Q6 | Healthy Fruit  \\\n",
              "431                          NaN             NaN                NaN   \n",
              "\n",
              "    Q6 | Heath Bar Q6 | Hershey's Dark Chocolate  \\\n",
              "431            NaN                           NaN   \n",
              "\n",
              "    Q6 | Hershey’s Milk Chocolate Q6 | Hershey's Kisses  \\\n",
              "431                           NaN                   NaN   \n",
              "\n",
              "    Q6 | Hugs (actual physical hugs) Q6 | Jolly Rancher (bad flavor)  \\\n",
              "431                              NaN                             NaN   \n",
              "\n",
              "    Q6 | Jolly Ranchers (good flavor) Q6 | JoyJoy (Mit Iodine!)  \\\n",
              "431                               NaN                       NaN   \n",
              "\n",
              "    Q6 | Junior Mints Q6 | Senior Mints Q6 | Kale smoothie  \\\n",
              "431               NaN               NaN                NaN   \n",
              "\n",
              "    Q6 | Kinder Happy Hippo Q6 | Kit Kat Q6 | LaffyTaffy Q6 | LemonHeads  \\\n",
              "431                     NaN          NaN             NaN             NaN   \n",
              "\n",
              "    Q6 | Licorice (not black) Q6 | Licorice (yes black) Q6 | Lindt Truffle  \\\n",
              "431                       NaN                       NaN                NaN   \n",
              "\n",
              "    Q6 | Lollipops Q6 | Mars Q6 | Maynards Q6 | Mike and Ike Q6 | Milk Duds  \\\n",
              "431            NaN       NaN           NaN               NaN            NaN   \n",
              "\n",
              "    Q6 | Milky Way Q6 | Regular M&Ms Q6 | Peanut M&M’s Q6 | Blue M&M's  \\\n",
              "431            NaN               NaN               NaN             NaN   \n",
              "\n",
              "    Q6 | Red M&M's Q6 | Green Party M&M's Q6 | Independent M&M's  \\\n",
              "431            NaN                    NaN                    NaN   \n",
              "\n",
              "    Q6 | Abstained from M&M'ing. Q6 | Minibags of chips Q6 | Mint Kisses  \\\n",
              "431                          NaN                    NaN              NaN   \n",
              "\n",
              "    Q6 | Mint Juleps Q6 | Mr. Goodbar Q6 | Necco Wafers Q6 | Nerds  \\\n",
              "431              NaN              NaN               NaN        NaN   \n",
              "\n",
              "    Q6 | Nestle Crunch Q6 | Now'n'Laters Q6 | Peeps Q6 | Pencils  \\\n",
              "431                NaN               NaN        NaN          NaN   \n",
              "\n",
              "    Q6 | Pixy Stix Q6 | Real Housewives of Orange County Season 9 Blue-Ray  \\\n",
              "431            NaN                                                NaN        \n",
              "\n",
              "    Q6 | Reese’s Peanut Butter Cups Q6 | Reese's Pieces  \\\n",
              "431                             NaN                 NaN   \n",
              "\n",
              "    Q6 | Reggie Jackson Bar Q6 | Rolos  \\\n",
              "431                     NaN        NaN   \n",
              "\n",
              "    Q6 | Sandwich-sized bags filled with BooBerry Crunch Q6 | Skittles  \\\n",
              "431                                                NaN             NaN   \n",
              "\n",
              "    Q6 | Smarties (American) Q6 | Smarties (Commonwealth) Q6 | Snickers  \\\n",
              "431                      NaN                          NaN           NaN   \n",
              "\n",
              "    Q6 | Sourpatch Kids (i.e. abominations of nature) Q6 | Spotted Dick  \\\n",
              "431                                               NaN               NaN   \n",
              "\n",
              "    Q6 | Starburst Q6 | Sweet Tarts Q6 | Swedish Fish  \\\n",
              "431            NaN              NaN               NaN   \n",
              "\n",
              "    Q6 | Sweetums (a friend to diabetes) Q6 | Take 5 Q6 | Tic Tacs  \\\n",
              "431                                  NaN         NaN           NaN   \n",
              "\n",
              "    Q6 | Those odd marshmallow circus peanut things Q6 | Three Musketeers  \\\n",
              "431                                             NaN                   NaN   \n",
              "\n",
              "    Q6 | Tolberone something or other Q6 | Trail Mix Q6 | Twix  \\\n",
              "431                               NaN            NaN       NaN   \n",
              "\n",
              "    Q6 | Vials of pure high fructose corn syrup, for main-lining into your vein  \\\n",
              "431                                                NaN                            \n",
              "\n",
              "    Q6 | Vicodin Q6 | Whatchamacallit Bars Q6 | White Bread  \\\n",
              "431          NaN                       NaN              NaN   \n",
              "\n",
              "    Q6 | Whole Wheat anything Q6 | York Peppermint Patties Q7: JOY OTHER  \\\n",
              "431                       NaN                          NaN           NaN   \n",
              "\n",
              "    Q10: DRESS Q11: DAY  Q12: MEDIA [Science] Click Coordinates (x, y)  \n",
              "431        NaN      NaN                   NaN                      NaN  "
            ],
            "text/html": [
              "\n",
              "  <div id=\"df-32599dd6-a1ac-45f8-87cb-0d89a41c82c1\">\n",
              "    <div class=\"colab-df-container\">\n",
              "      <div>\n",
              "<style scoped>\n",
              "    .dataframe tbody tr th:only-of-type {\n",
              "        vertical-align: middle;\n",
              "    }\n",
              "\n",
              "    .dataframe tbody tr th {\n",
              "        vertical-align: top;\n",
              "    }\n",
              "\n",
              "    .dataframe thead th {\n",
              "        text-align: right;\n",
              "    }\n",
              "</style>\n",
              "<table border=\"1\" class=\"dataframe\">\n",
              "  <thead>\n",
              "    <tr style=\"text-align: right;\">\n",
              "      <th></th>\n",
              "      <th>going out</th>\n",
              "      <th>gender</th>\n",
              "      <th>age</th>\n",
              "      <th>Q4: COUNTRY</th>\n",
              "      <th>Q5: STATE, PROVINCE, COUNTY, ETC</th>\n",
              "      <th>Q6 | 100 Grand Bar</th>\n",
              "      <th>Q6 | Anonymous brown globs that come in black and orange wrappers\\t(a.k.a. Mary Janes)</th>\n",
              "      <th>Q6 | Any full-sized candy bar</th>\n",
              "      <th>Q6 | Black Jacks</th>\n",
              "      <th>Q6 | Bonkers (the candy)</th>\n",
              "      <th>Q6 | Bonkers (the board game)</th>\n",
              "      <th>Q6 | Bottle Caps</th>\n",
              "      <th>Q6 | Box'o'Raisins</th>\n",
              "      <th>Q6 | Broken glow stick</th>\n",
              "      <th>Q6 | Butterfinger</th>\n",
              "      <th>Q6 | Cadbury Creme Eggs</th>\n",
              "      <th>Q6 | Candy Corn</th>\n",
              "      <th>Q6 | Candy that is clearly just the stuff given out for free at restaurants</th>\n",
              "      <th>Q6 | Caramellos</th>\n",
              "      <th>Q6 | Cash, or other forms of legal tender</th>\n",
              "      <th>Q6 | Chardonnay</th>\n",
              "      <th>Q6 | Chick-o-Sticks (we don’t know what that is)</th>\n",
              "      <th>Q6 | Chiclets</th>\n",
              "      <th>Q6 | Coffee Crisp</th>\n",
              "      <th>Q6 | Creepy Religious comics/Chick Tracts</th>\n",
              "      <th>Q6 | Dental paraphenalia</th>\n",
              "      <th>Q6 | Dots</th>\n",
              "      <th>Q6 | Dove Bars</th>\n",
              "      <th>Q6 | Fuzzy Peaches</th>\n",
              "      <th>Q6 | Generic Brand Acetaminophen</th>\n",
              "      <th>Q6 | Glow sticks</th>\n",
              "      <th>Q6 | Goo Goo Clusters</th>\n",
              "      <th>Q6 | Good N' Plenty</th>\n",
              "      <th>Q6 | Gum from baseball cards</th>\n",
              "      <th>Q6 | Gummy Bears straight up</th>\n",
              "      <th>Q6 | Hard Candy</th>\n",
              "      <th>Q6 | Healthy Fruit</th>\n",
              "      <th>Q6 | Heath Bar</th>\n",
              "      <th>Q6 | Hershey's Dark Chocolate</th>\n",
              "      <th>Q6 | Hershey’s Milk Chocolate</th>\n",
              "      <th>Q6 | Hershey's Kisses</th>\n",
              "      <th>Q6 | Hugs (actual physical hugs)</th>\n",
              "      <th>Q6 | Jolly Rancher (bad flavor)</th>\n",
              "      <th>Q6 | Jolly Ranchers (good flavor)</th>\n",
              "      <th>Q6 | JoyJoy (Mit Iodine!)</th>\n",
              "      <th>Q6 | Junior Mints</th>\n",
              "      <th>Q6 | Senior Mints</th>\n",
              "      <th>Q6 | Kale smoothie</th>\n",
              "      <th>Q6 | Kinder Happy Hippo</th>\n",
              "      <th>Q6 | Kit Kat</th>\n",
              "      <th>Q6 | LaffyTaffy</th>\n",
              "      <th>Q6 | LemonHeads</th>\n",
              "      <th>Q6 | Licorice (not black)</th>\n",
              "      <th>Q6 | Licorice (yes black)</th>\n",
              "      <th>Q6 | Lindt Truffle</th>\n",
              "      <th>Q6 | Lollipops</th>\n",
              "      <th>Q6 | Mars</th>\n",
              "      <th>Q6 | Maynards</th>\n",
              "      <th>Q6 | Mike and Ike</th>\n",
              "      <th>Q6 | Milk Duds</th>\n",
              "      <th>Q6 | Milky Way</th>\n",
              "      <th>Q6 | Regular M&amp;Ms</th>\n",
              "      <th>Q6 | Peanut M&amp;M’s</th>\n",
              "      <th>Q6 | Blue M&amp;M's</th>\n",
              "      <th>Q6 | Red M&amp;M's</th>\n",
              "      <th>Q6 | Green Party M&amp;M's</th>\n",
              "      <th>Q6 | Independent M&amp;M's</th>\n",
              "      <th>Q6 | Abstained from M&amp;M'ing.</th>\n",
              "      <th>Q6 | Minibags of chips</th>\n",
              "      <th>Q6 | Mint Kisses</th>\n",
              "      <th>Q6 | Mint Juleps</th>\n",
              "      <th>Q6 | Mr. Goodbar</th>\n",
              "      <th>Q6 | Necco Wafers</th>\n",
              "      <th>Q6 | Nerds</th>\n",
              "      <th>Q6 | Nestle Crunch</th>\n",
              "      <th>Q6 | Now'n'Laters</th>\n",
              "      <th>Q6 | Peeps</th>\n",
              "      <th>Q6 | Pencils</th>\n",
              "      <th>Q6 | Pixy Stix</th>\n",
              "      <th>Q6 | Real Housewives of Orange County Season 9 Blue-Ray</th>\n",
              "      <th>Q6 | Reese’s Peanut Butter Cups</th>\n",
              "      <th>Q6 | Reese's Pieces</th>\n",
              "      <th>Q6 | Reggie Jackson Bar</th>\n",
              "      <th>Q6 | Rolos</th>\n",
              "      <th>Q6 | Sandwich-sized bags filled with BooBerry Crunch</th>\n",
              "      <th>Q6 | Skittles</th>\n",
              "      <th>Q6 | Smarties (American)</th>\n",
              "      <th>Q6 | Smarties (Commonwealth)</th>\n",
              "      <th>Q6 | Snickers</th>\n",
              "      <th>Q6 | Sourpatch Kids (i.e. abominations of nature)</th>\n",
              "      <th>Q6 | Spotted Dick</th>\n",
              "      <th>Q6 | Starburst</th>\n",
              "      <th>Q6 | Sweet Tarts</th>\n",
              "      <th>Q6 | Swedish Fish</th>\n",
              "      <th>Q6 | Sweetums (a friend to diabetes)</th>\n",
              "      <th>Q6 | Take 5</th>\n",
              "      <th>Q6 | Tic Tacs</th>\n",
              "      <th>Q6 | Those odd marshmallow circus peanut things</th>\n",
              "      <th>Q6 | Three Musketeers</th>\n",
              "      <th>Q6 | Tolberone something or other</th>\n",
              "      <th>Q6 | Trail Mix</th>\n",
              "      <th>Q6 | Twix</th>\n",
              "      <th>Q6 | Vials of pure high fructose corn syrup, for main-lining into your vein</th>\n",
              "      <th>Q6 | Vicodin</th>\n",
              "      <th>Q6 | Whatchamacallit Bars</th>\n",
              "      <th>Q6 | White Bread</th>\n",
              "      <th>Q6 | Whole Wheat anything</th>\n",
              "      <th>Q6 | York Peppermint Patties</th>\n",
              "      <th>Q7: JOY OTHER</th>\n",
              "      <th>Q10: DRESS</th>\n",
              "      <th>Q11: DAY</th>\n",
              "      <th>Q12: MEDIA [Science]</th>\n",
              "      <th>Click Coordinates (x, y)</th>\n",
              "    </tr>\n",
              "  </thead>\n",
              "  <tbody>\n",
              "    <tr>\n",
              "      <th>431</th>\n",
              "      <td>No</td>\n",
              "      <td>Male</td>\n",
              "      <td>35</td>\n",
              "      <td>usa</td>\n",
              "      <td>ca</td>\n",
              "      <td>NaN</td>\n",
              "      <td>NaN</td>\n",
              "      <td>NaN</td>\n",
              "      <td>NaN</td>\n",
              "      <td>NaN</td>\n",
              "      <td>NaN</td>\n",
              "      <td>NaN</td>\n",
              "      <td>NaN</td>\n",
              "      <td>NaN</td>\n",
              "      <td>NaN</td>\n",
              "      <td>NaN</td>\n",
              "      <td>NaN</td>\n",
              "      <td>NaN</td>\n",
              "      <td>NaN</td>\n",
              "      <td>NaN</td>\n",
              "      <td>NaN</td>\n",
              "      <td>NaN</td>\n",
              "      <td>NaN</td>\n",
              "      <td>NaN</td>\n",
              "      <td>NaN</td>\n",
              "      <td>NaN</td>\n",
              "      <td>NaN</td>\n",
              "      <td>NaN</td>\n",
              "      <td>NaN</td>\n",
              "      <td>NaN</td>\n",
              "      <td>NaN</td>\n",
              "      <td>NaN</td>\n",
              "      <td>NaN</td>\n",
              "      <td>NaN</td>\n",
              "      <td>NaN</td>\n",
              "      <td>NaN</td>\n",
              "      <td>NaN</td>\n",
              "      <td>NaN</td>\n",
              "      <td>NaN</td>\n",
              "      <td>NaN</td>\n",
              "      <td>NaN</td>\n",
              "      <td>NaN</td>\n",
              "      <td>NaN</td>\n",
              "      <td>NaN</td>\n",
              "      <td>NaN</td>\n",
              "      <td>NaN</td>\n",
              "      <td>NaN</td>\n",
              "      <td>NaN</td>\n",
              "      <td>NaN</td>\n",
              "      <td>NaN</td>\n",
              "      <td>NaN</td>\n",
              "      <td>NaN</td>\n",
              "      <td>NaN</td>\n",
              "      <td>NaN</td>\n",
              "      <td>NaN</td>\n",
              "      <td>NaN</td>\n",
              "      <td>NaN</td>\n",
              "      <td>NaN</td>\n",
              "      <td>NaN</td>\n",
              "      <td>NaN</td>\n",
              "      <td>NaN</td>\n",
              "      <td>NaN</td>\n",
              "      <td>NaN</td>\n",
              "      <td>NaN</td>\n",
              "      <td>NaN</td>\n",
              "      <td>NaN</td>\n",
              "      <td>NaN</td>\n",
              "      <td>NaN</td>\n",
              "      <td>NaN</td>\n",
              "      <td>NaN</td>\n",
              "      <td>NaN</td>\n",
              "      <td>NaN</td>\n",
              "      <td>NaN</td>\n",
              "      <td>NaN</td>\n",
              "      <td>NaN</td>\n",
              "      <td>NaN</td>\n",
              "      <td>NaN</td>\n",
              "      <td>NaN</td>\n",
              "      <td>NaN</td>\n",
              "      <td>NaN</td>\n",
              "      <td>NaN</td>\n",
              "      <td>NaN</td>\n",
              "      <td>NaN</td>\n",
              "      <td>NaN</td>\n",
              "      <td>NaN</td>\n",
              "      <td>NaN</td>\n",
              "      <td>NaN</td>\n",
              "      <td>NaN</td>\n",
              "      <td>NaN</td>\n",
              "      <td>NaN</td>\n",
              "      <td>NaN</td>\n",
              "      <td>NaN</td>\n",
              "      <td>NaN</td>\n",
              "      <td>NaN</td>\n",
              "      <td>NaN</td>\n",
              "      <td>NaN</td>\n",
              "      <td>NaN</td>\n",
              "      <td>NaN</td>\n",
              "      <td>NaN</td>\n",
              "      <td>NaN</td>\n",
              "      <td>NaN</td>\n",
              "      <td>NaN</td>\n",
              "      <td>NaN</td>\n",
              "      <td>NaN</td>\n",
              "      <td>NaN</td>\n",
              "      <td>NaN</td>\n",
              "      <td>NaN</td>\n",
              "      <td>NaN</td>\n",
              "      <td>NaN</td>\n",
              "      <td>NaN</td>\n",
              "      <td>NaN</td>\n",
              "      <td>NaN</td>\n",
              "      <td>NaN</td>\n",
              "    </tr>\n",
              "  </tbody>\n",
              "</table>\n",
              "</div>\n",
              "      <button class=\"colab-df-convert\" onclick=\"convertToInteractive('df-32599dd6-a1ac-45f8-87cb-0d89a41c82c1')\"\n",
              "              title=\"Convert this dataframe to an interactive table.\"\n",
              "              style=\"display:none;\">\n",
              "        \n",
              "  <svg xmlns=\"http://www.w3.org/2000/svg\" height=\"24px\"viewBox=\"0 0 24 24\"\n",
              "       width=\"24px\">\n",
              "    <path d=\"M0 0h24v24H0V0z\" fill=\"none\"/>\n",
              "    <path d=\"M18.56 5.44l.94 2.06.94-2.06 2.06-.94-2.06-.94-.94-2.06-.94 2.06-2.06.94zm-11 1L8.5 8.5l.94-2.06 2.06-.94-2.06-.94L8.5 2.5l-.94 2.06-2.06.94zm10 10l.94 2.06.94-2.06 2.06-.94-2.06-.94-.94-2.06-.94 2.06-2.06.94z\"/><path d=\"M17.41 7.96l-1.37-1.37c-.4-.4-.92-.59-1.43-.59-.52 0-1.04.2-1.43.59L10.3 9.45l-7.72 7.72c-.78.78-.78 2.05 0 2.83L4 21.41c.39.39.9.59 1.41.59.51 0 1.02-.2 1.41-.59l7.78-7.78 2.81-2.81c.8-.78.8-2.07 0-2.86zM5.41 20L4 18.59l7.72-7.72 1.47 1.35L5.41 20z\"/>\n",
              "  </svg>\n",
              "      </button>\n",
              "      \n",
              "  <style>\n",
              "    .colab-df-container {\n",
              "      display:flex;\n",
              "      flex-wrap:wrap;\n",
              "      gap: 12px;\n",
              "    }\n",
              "\n",
              "    .colab-df-convert {\n",
              "      background-color: #E8F0FE;\n",
              "      border: none;\n",
              "      border-radius: 50%;\n",
              "      cursor: pointer;\n",
              "      display: none;\n",
              "      fill: #1967D2;\n",
              "      height: 32px;\n",
              "      padding: 0 0 0 0;\n",
              "      width: 32px;\n",
              "    }\n",
              "\n",
              "    .colab-df-convert:hover {\n",
              "      background-color: #E2EBFA;\n",
              "      box-shadow: 0px 1px 2px rgba(60, 64, 67, 0.3), 0px 1px 3px 1px rgba(60, 64, 67, 0.15);\n",
              "      fill: #174EA6;\n",
              "    }\n",
              "\n",
              "    [theme=dark] .colab-df-convert {\n",
              "      background-color: #3B4455;\n",
              "      fill: #D2E3FC;\n",
              "    }\n",
              "\n",
              "    [theme=dark] .colab-df-convert:hover {\n",
              "      background-color: #434B5C;\n",
              "      box-shadow: 0px 1px 3px 1px rgba(0, 0, 0, 0.15);\n",
              "      filter: drop-shadow(0px 1px 2px rgba(0, 0, 0, 0.3));\n",
              "      fill: #FFFFFF;\n",
              "    }\n",
              "  </style>\n",
              "\n",
              "      <script>\n",
              "        const buttonEl =\n",
              "          document.querySelector('#df-32599dd6-a1ac-45f8-87cb-0d89a41c82c1 button.colab-df-convert');\n",
              "        buttonEl.style.display =\n",
              "          google.colab.kernel.accessAllowed ? 'block' : 'none';\n",
              "\n",
              "        async function convertToInteractive(key) {\n",
              "          const element = document.querySelector('#df-32599dd6-a1ac-45f8-87cb-0d89a41c82c1');\n",
              "          const dataTable =\n",
              "            await google.colab.kernel.invokeFunction('convertToInteractive',\n",
              "                                                     [key], {});\n",
              "          if (!dataTable) return;\n",
              "\n",
              "          const docLinkHtml = 'Like what you see? Visit the ' +\n",
              "            '<a target=\"_blank\" href=https://colab.research.google.com/notebooks/data_table.ipynb>data table notebook</a>'\n",
              "            + ' to learn more about interactive tables.';\n",
              "          element.innerHTML = '';\n",
              "          dataTable['output_type'] = 'display_data';\n",
              "          await google.colab.output.renderOutput(dataTable, element);\n",
              "          const docLink = document.createElement('div');\n",
              "          docLink.innerHTML = docLinkHtml;\n",
              "          element.appendChild(docLink);\n",
              "        }\n",
              "      </script>\n",
              "    </div>\n",
              "  </div>\n",
              "  "
            ]
          },
          "metadata": {},
          "execution_count": 88
        }
      ],
      "source": [
        "df.sample()"
      ]
    },
    {
      "cell_type": "code",
      "execution_count": 89,
      "metadata": {
        "colab": {
          "base_uri": "https://localhost:8080/"
        },
        "id": "bKvQj9FdSU4j",
        "outputId": "c20ae16b-13a2-4456-9c4a-55c281ced7d0"
      },
      "outputs": [
        {
          "output_type": "execute_result",
          "data": {
            "text/plain": [
              "0                  NaN\n",
              "1                   NM\n",
              "2             Virginia\n",
              "3                   or\n",
              "4             exton pa\n",
              "             ...      \n",
              "2455                MD\n",
              "2456          New York\n",
              "2457         Tennessee\n",
              "2458    North Carolina\n",
              "2459      Pennsylvania\n",
              "Name: Q5: STATE, PROVINCE, COUNTY, ETC, Length: 2460, dtype: object"
            ]
          },
          "metadata": {},
          "execution_count": 89
        }
      ],
      "source": [
        "df['Q5: STATE, PROVINCE, COUNTY, ETC']"
      ]
    },
    {
      "cell_type": "code",
      "execution_count": 90,
      "metadata": {
        "colab": {
          "base_uri": "https://localhost:8080/"
        },
        "id": "_gMwHHcXSacL",
        "outputId": "ba976a0d-b81f-4ae0-8a5c-8f2c73ea6feb"
      },
      "outputs": [
        {
          "output_type": "execute_result",
          "data": {
            "text/plain": [
              "array([nan, 'NM', 'Virginia', 'or', 'exton pa', 'Colorado ', 'ontario',\n",
              "       'Ontario', 'Wa', 'Quebec', 'NY', 'California', 'Texas', 'NEW YORK',\n",
              "       'CO', 'IN', 'MN', 'aberdeenshire', 'Alberta', 'Wisconsin, 53705',\n",
              "       'RI', 'NC', 'Scotland', 'minnesota', 'Michigan', 'Florida',\n",
              "       'New Jersey', 'VA', 'Colorado', 'Los Angeles, California', 'CA',\n",
              "       'New York ', 'Chicago, Illinois', 'Nj', 'Wisconsin', 'Minnesota ',\n",
              "       'London', 'mn', 'TEXAS', 'Illinois', 'District of Columbia',\n",
              "       'Washington', 'Massachusetts ', 'OR', 'Montana', 'New York',\n",
              "       'massachusetts', 'Abu Dhabi', 'TX', 'Arizona', 'Dc', 'yukon',\n",
              "       'Pennsylvania ', 'MD', 'Ohio', 'Alberta ', 'OXFORDSHIRE', 'DC',\n",
              "       'Iowa', 'Mn', 'TN', 'BC', 'Maryland', 'MI', 'Wisconsin ', 'alaska',\n",
              "       'Ny', 'Colorado, Jefferson county ', 'Louisiana', 'pa',\n",
              "       'CO, Larimer County', 'Nebraska ', 'Oregon', 'UT', 'ny',\n",
              "       'Pennsylvania', 'CDMX', 'north carolina', 'Tennessee ', 'Texas ',\n",
              "       'Knox county, Tennessee', 'New Mexico', 'Maine', 'maine',\n",
              "       'Virginia, Arlington', 'WA', 'MO', 'Illinois ', 'Mi', 'MA',\n",
              "       'Alaska', 'New York, NY', 'Il', 'PA', 'New Hampshire ',\n",
              "       'Washington ', 'Massachusetts', 'Georgia', 'IL', 'Oregon ',\n",
              "       'Washington, Clark ', 'NE', 'Oklahoma', 'SC', 'Nebraska', 'mi',\n",
              "       'Nevada', 'va', 'California ', 'vancouver, bc',\n",
              "       'Oregon - but will be in Washington for Halloween', 'Ri',\n",
              "       'Washington, King', 'Ca', 'wa', 'md', 'new york', 'Rhode island',\n",
              "       'VT, Chittenden', 'North Carolina', 'pennsylvania', 'PEnnsylvania',\n",
              "       'Alabama', 'GA', 'FL, Orange County', 'Nope', 'manitoba',\n",
              "       'colorado', 'california ', 'South Carolina', 'california',\n",
              "       'Baja California', 'illinois', 'Santa Cruz County, California',\n",
              "       'MARYLAND', 'NJ', 'North Dakota',\n",
              "       'Pennsylvania, Montgomery County', 'Astoria NY', 'Michigan ', 'ca',\n",
              "       'Kansas ', 'sk', 'Missouri', 'Oxfordshire', 'British Columbia',\n",
              "       'West Virginia', 'Harris County, Texas', 'USA ', 'ohio', 'ma',\n",
              "       'nc', 'Minnesota', 'Bc', 'oregon', 'philadelphia', 'Kentucky',\n",
              "       'HI', 'South Holland', 'Derbyshire', 'hesse',\n",
              "       'Massachusetts, Plymouth county', 'hi', 'Co', 'Cali', 'vt',\n",
              "       'CA, Alameda', 'Utah', 'FL', 'Michigan, Shiawassee County',\n",
              "       'Newfoundland', 'Indiana', 'wisconsin', 'Idaho ada', 'La',\n",
              "       'America', 'Hawaii', 'California, Alameda', 'Az', 'VT', 'AZ',\n",
              "       'Sub Earth', 'North dakota', 'virginia', 'Ga',\n",
              "       'alameda county, california', 'Greater London', 'bc', 'nm', 'AB',\n",
              "       'WV, Kanawha County ', 'michigan', 'Florida ', 'tx',\n",
              "       'Washington State', 'Sussex', 48, 'Washington, King County',\n",
              "       'San Jose', 'florida', 'Connecticut', 'New Jersey ', 'Orlando, FL',\n",
              "       'ON', 'Saskatchewan', 'South Carolina ', 'texas', 'newfoundland',\n",
              "       'mississippi', 'Oklahoma ', 'washington', 'Manitoba ',\n",
              "       'Manchester', 'cascadia', 'in', 'rhode island', 'Ohio ', 'Pa',\n",
              "       'FL ', 'Ut', 'Sydney ', 'CT',\n",
              "       'oblivion if things keep going this way', 'connecticut',\n",
              "       'British Columbia ', 'Nunya, Bizness, USA', 'OH',\n",
              "       'Washington state', 'Oakland, California',\n",
              "       'Washington, Seattle, king', 'Ontario,  Canada', 'ri',\n",
              "       'phoenix, maricopa county, arizona', 'Merlin', 'NS',\n",
              "       'Washington state, Kitsap County', 'cailifornia', 'oakland,ca',\n",
              "       'QC', 'USA', 'Missouri ', 'Pittsburgh pa',\n",
              "       'Issaquah, WA, King County ', 'Washington, seattle, king',\n",
              "       'Massachussets ', 'Whatcom County, WA', 'Mt', 'NH', 'Michigin',\n",
              "       'Ma', 'KS', 'Oakland County, Michigan', 'Albeqrrta', 'Marne',\n",
              "       'Noord-Holland', 'Tennessee, Knox County', 'Henrico, VA',\n",
              "       'Washington State, King County, City of Seattle', 'Washington, DC',\n",
              "       'nyc', 'Brooklyn', 'qld', 'Santa Barbara co. California',\n",
              "       'Maryland ', 'Ky', 'New Orleans la ', 'colorado, boulder', 'mo',\n",
              "       'COLORADO', 'Nh', 'Greater Manchester', 'Fife, Scotland', 'A',\n",
              "       'Kalamazoo County, MI', 'OREGON', 'Wi', 'Ontario ', 'wv',\n",
              "       'ulster county, NY', 'NJ, Gloucester', 'calif', 'Or', 'tn', 'MS',\n",
              "       'NB', 'Queens', 'Vermont', 'Kildare', 'Vermont ', 'ND',\n",
              "       'tennessee', 'Washington DC', 'Kings, New York ', 'Cook',\n",
              "       'Toronto, Ontario', 'Victoria', 'Virginia ', 'On', 'nova scotia',\n",
              "       'Tehama', 'suffolk county ny', 'Santa Clara County, California',\n",
              "       'louisiana', 'SD', 'Md', 'Missoure', 'IA',\n",
              "       'Colorado larimer county', 'Tokyo', 'New Mexico, USA', 'ont',\n",
              "       'Califor', 'Idaho', 'Kansas', 'NV', 'Brooklyn, kings county ny',\n",
              "       'King County, Washington', 'WI', 'Washington, Island county',\n",
              "       'KwaZulu-Natal', 'Carver county, MN', 'DUTCHESS COUNTY NY', 'Ny ',\n",
              "       'Wyoming ', 'Bristol ', 'british columbia',\n",
              "       'California, San Francisco', 'Glendora, Los Angeles, California',\n",
              "       'Edinburgh', 'Strathclyde', 'Lancasire', 'Ørbæk', 'pr', 'Idf',\n",
              "       'Zuid Holland', 'Osaka', 'Surrey', 'Northern ireland', 'Vaud',\n",
              "       'Arizona ', 'Nova Scotia', 'az', 'see question 2', 'Midlothian',\n",
              "       'Tennessee', 'Durham County, North Carolina',\n",
              "       'Missouri, Miller County', 'Glasgow ', 'ct',\n",
              "       'Cuyahoga County, Ohio', 'Seoul', 'Canada', 'Kanagawa ',\n",
              "       'The Shore', 'Manitoba', 'MD ', 'Devonshire', 'Utah ', 'Tx.',\n",
              "       'maryland', 'PENNSYLVANIA', 'ONTARIO', 'Jakarta', 'kansas',\n",
              "       'Mannheim, Baden-Württemberg ', '|NC', 'Wyoming', 'Rotterdam',\n",
              "       'Ar', 'Arkansas', 'renton,wa ', 'N-Brabant', 'missouri',\n",
              "       'Georgia ', 'Greifswald', 'ar', 'British Columbia, Canada', 'kent',\n",
              "       'Hessen', 'Kentucky ', 'NOYB', 'New york', 'South Dakota',\n",
              "       'Emerald City, Petrolia', 'New York, New York', 'wa, spokane',\n",
              "       'new york ', 'Buncombe County, North Carolina',\n",
              "       'California, San Diego', 'new hampshire',\n",
              "       'California, Ventura County', 'NY, Tompkins County', 'Nj ',\n",
              "       'Arlington, VA', 'Glasgow', 'kentucky', 'alberta', 'Philadelphia',\n",
              "       'Portland, maine', 'sc', 'nh', 'NSW', 'califormia', 'New jersey',\n",
              "       'montana', 'indiana ', 'Mexico city', 'GA - Georgia', 'il', 'WV',\n",
              "       'Oregon, Multnomah County', 'Vancouver, Wa', 'Nc', 'Atlanta, GA',\n",
              "       'Washington state ', 'Singapore', 'west virginia',\n",
              "       'North carolina', 'KY', 'United States', 'Mo', 'Colorado (CO)',\n",
              "       'Fl', 'wyoming', 'Nm', 'Dona Ana county, New Mexico',\n",
              "       'UT, Salt Lake', 'Ks',\n",
              "       'California, Contra Costa County, Pleasant Hill',\n",
              "       'Shanghai, Chang Ning district ', 'Vt', 'Monroe county',\n",
              "       'Hong Kong', 'Washingto', 'Dublin ',\n",
              "       'California, Mendocino County', 'na', 'madrid', 'Hesse',\n",
              "       'Noord-Brabant', 'Skane', 'Zürich', 'Tree Town, USA',\n",
              "       'New Hampshire', 'Philadelphia, PA',\n",
              "       'Bristol County, Rhode Island', 'georgia',\n",
              "       'Newfoundland and Labrador', 'Dublin', 'Oshawa, Ontario, Canada',\n",
              "       'NL', 'DC ', 'oklahoma', 'NJ; Essex', 'Va', 'Delaware', 'Mich',\n",
              "       'Ia', 'Québec', 'orange county, ca', 'BERKELEY, CA',\n",
              "       'California, USA', 'NYC', 'St. Louis County, Missouri', 'Munster',\n",
              "       'Chicago, IL', 'Philadelphia PA', 'Rappahannock County, VA', 'OK',\n",
              "       'Chicago, IL ', 'Mexico City', 'dc', 'Illinois  ', 'WASHINGTON DC',\n",
              "       'Tn', 'Connecticut ', 'ill', 'Idaho ', 'Stockholm',\n",
              "       'New York County, New York City, New York State', 'Chicago',\n",
              "       'West Yorkshire', 'Berlin', 'arlington, va', 1, 'ur mom',\n",
              "       'Alaska, Matanuska-Susitna Borough', 'utah', 'Marietta, GA',\n",
              "       'Northbrook, IL', 'delaware', 'Tx', 'Ont',\n",
              "       'Northampton County, PA', 'Rhode Island',\n",
              "       'Pa.   Northampton county', 'California, San Diego county',\n",
              "       'Bloomington, IN', 'indiana', 'Quenec', 'Londom', 'nj',\n",
              "       'st. augustine florida', 'illinois ', 'iowa',\n",
              "       \"The Democratic People's Republic of North Carolina\", 'SC ',\n",
              "       'pennsylvania, northampton couny, easton', 'St Louis mo', 'mt',\n",
              "       'Psychotic', 'québec'], dtype=object)"
            ]
          },
          "metadata": {},
          "execution_count": 90
        }
      ],
      "source": [
        "df['Q5: STATE, PROVINCE, COUNTY, ETC'].unique()"
      ]
    },
    {
      "cell_type": "code",
      "execution_count": 91,
      "metadata": {
        "colab": {
          "base_uri": "https://localhost:8080/"
        },
        "id": "Vk_XxBOfSaYl",
        "outputId": "371de9d6-97dc-4d21-cbae-2c77ef6be77d"
      },
      "outputs": [
        {
          "output_type": "execute_result",
          "data": {
            "text/plain": [
              "100"
            ]
          },
          "metadata": {},
          "execution_count": 91
        }
      ],
      "source": [
        "df['Q5: STATE, PROVINCE, COUNTY, ETC'].isnull().sum()"
      ]
    },
    {
      "cell_type": "code",
      "execution_count": 92,
      "metadata": {
        "id": "wok6Q9g8SaVG"
      },
      "outputs": [],
      "source": [
        "df.drop(['Q5: STATE, PROVINCE, COUNTY, ETC'], axis=1, inplace=True)"
      ]
    },
    {
      "cell_type": "code",
      "execution_count": 92,
      "metadata": {
        "id": "zftOCwibSaQu"
      },
      "outputs": [],
      "source": []
    },
    {
      "cell_type": "code",
      "execution_count": 92,
      "metadata": {
        "id": "rwJvZTinSaMl"
      },
      "outputs": [],
      "source": []
    },
    {
      "cell_type": "markdown",
      "metadata": {
        "id": "sNAYZcT3Ygxr"
      },
      "source": [
        "# **11 - clean ` dress` column**\n",
        ">tip : you should choose which best value to put in place of these NaNs ( mode, unknown,other ....etc)"
      ]
    },
    {
      "cell_type": "code",
      "execution_count": 93,
      "metadata": {
        "id": "kRq9NueBTlpV"
      },
      "outputs": [],
      "source": [
        "df = df.rename(columns = {'Q10: DRESS' : 'dress'})"
      ]
    },
    {
      "cell_type": "code",
      "execution_count": 94,
      "metadata": {
        "colab": {
          "base_uri": "https://localhost:8080/"
        },
        "id": "jyG6EsRVYgxs",
        "outputId": "720d8e85-d132-4ee8-d766-e17e9859ba77"
      },
      "outputs": [
        {
          "output_type": "execute_result",
          "data": {
            "text/plain": [
              "0                  NaN\n",
              "1       White and gold\n",
              "2                  NaN\n",
              "3       White and gold\n",
              "4       White and gold\n",
              "             ...      \n",
              "2455    White and gold\n",
              "2456    Blue and black\n",
              "2457    Blue and black\n",
              "2458               NaN\n",
              "2459    White and gold\n",
              "Name: dress, Length: 2460, dtype: object"
            ]
          },
          "metadata": {},
          "execution_count": 94
        }
      ],
      "source": [
        "df['dress']"
      ]
    },
    {
      "cell_type": "code",
      "execution_count": 95,
      "metadata": {
        "colab": {
          "base_uri": "https://localhost:8080/"
        },
        "id": "7m5ckEq9Tzk4",
        "outputId": "7220e36e-db52-4bba-bb7f-6ffd8db0f532"
      },
      "outputs": [
        {
          "output_type": "execute_result",
          "data": {
            "text/plain": [
              "array([nan, 'White and gold', 'Blue and black'], dtype=object)"
            ]
          },
          "metadata": {},
          "execution_count": 95
        }
      ],
      "source": [
        "df['dress'].unique()"
      ]
    },
    {
      "cell_type": "code",
      "execution_count": 96,
      "metadata": {
        "colab": {
          "base_uri": "https://localhost:8080/"
        },
        "id": "yqZp97E8Tzg6",
        "outputId": "ff179c77-817e-4c2d-fb99-292a69a5173d"
      },
      "outputs": [
        {
          "output_type": "execute_result",
          "data": {
            "text/plain": [
              "0.3024390243902439"
            ]
          },
          "metadata": {},
          "execution_count": 96
        }
      ],
      "source": [
        "df['dress'].isnull().sum()/len(df['dress'])"
      ]
    },
    {
      "cell_type": "code",
      "execution_count": 97,
      "metadata": {
        "colab": {
          "base_uri": "https://localhost:8080/",
          "height": 296
        },
        "id": "6PS55WWyTzdA",
        "outputId": "d5672000-c84e-433e-a45f-e188f5394967"
      },
      "outputs": [
        {
          "output_type": "execute_result",
          "data": {
            "text/plain": [
              "<matplotlib.axes._subplots.AxesSubplot at 0x7f3b3fc73f10>"
            ]
          },
          "metadata": {},
          "execution_count": 97
        },
        {
          "output_type": "display_data",
          "data": {
            "text/plain": [
              "<Figure size 432x288 with 1 Axes>"
            ],
            "image/png": "[encoded data removed]"
          },
          "metadata": {
            "needs_background": "light"
          }
        }
      ],
      "source": [
        "sns.countplot(x='dress',data=df)"
      ]
    },
    {
      "cell_type": "code",
      "execution_count": 98,
      "metadata": {
        "id": "KP7F29aUUL2P"
      },
      "outputs": [],
      "source": [
        "df['dress'].fillna(value=\"UnKnown\", inplace=True)"
      ]
    },
    {
      "cell_type": "code",
      "execution_count": 99,
      "metadata": {
        "colab": {
          "base_uri": "https://localhost:8080/",
          "height": 296
        },
        "id": "znyYRCvTTzZP",
        "outputId": "3b0ce4fb-5221-4030-9720-2ef40ff6f14c"
      },
      "outputs": [
        {
          "output_type": "execute_result",
          "data": {
            "text/plain": [
              "<matplotlib.axes._subplots.AxesSubplot at 0x7f3b3fadc730>"
            ]
          },
          "metadata": {},
          "execution_count": 99
        },
        {
          "output_type": "display_data",
          "data": {
            "text/plain": [
              "<Figure size 432x288 with 1 Axes>"
            ],
            "image/png": "[encoded data removed]"
          },
          "metadata": {
            "needs_background": "light"
          }
        }
      ],
      "source": [
        "sns.countplot(x='dress',data=df)"
      ]
    },
    {
      "cell_type": "markdown",
      "metadata": {
        "id": "2QOTPY3dYgxs"
      },
      "source": [
        "# **12 - clean ` day` column**\n",
        ">tip : you should choose which best value to put in place of these NaNs ( mode, unknown,other ....etc)"
      ]
    },
    {
      "cell_type": "code",
      "execution_count": 100,
      "metadata": {
        "id": "os-eyRAWU3rU"
      },
      "outputs": [],
      "source": [
        "df = df.rename(columns = {'Q11: DAY' : 'day'})"
      ]
    },
    {
      "cell_type": "code",
      "execution_count": 101,
      "metadata": {
        "colab": {
          "base_uri": "https://localhost:8080/"
        },
        "id": "a7wbZe6jVEZf",
        "outputId": "ee18f003-705b-4b51-9559-f05fe7fba2d5"
      },
      "outputs": [
        {
          "output_type": "execute_result",
          "data": {
            "text/plain": [
              "0          NaN\n",
              "1       Sunday\n",
              "2          NaN\n",
              "3       Sunday\n",
              "4       Friday\n",
              "         ...  \n",
              "2455    Friday\n",
              "2456    Friday\n",
              "2457    Friday\n",
              "2458       NaN\n",
              "2459    Sunday\n",
              "Name: day, Length: 2460, dtype: object"
            ]
          },
          "metadata": {},
          "execution_count": 101
        }
      ],
      "source": [
        "df['day']"
      ]
    },
    {
      "cell_type": "code",
      "execution_count": 102,
      "metadata": {
        "colab": {
          "base_uri": "https://localhost:8080/"
        },
        "id": "qbzFVcwoVG82",
        "outputId": "44f54f2a-ba1a-4c38-b07f-98afbebc89d8"
      },
      "outputs": [
        {
          "output_type": "execute_result",
          "data": {
            "text/plain": [
              "array([nan, 'Sunday', 'Friday'], dtype=object)"
            ]
          },
          "metadata": {},
          "execution_count": 102
        }
      ],
      "source": [
        "df['day'].unique()"
      ]
    },
    {
      "cell_type": "code",
      "execution_count": 103,
      "metadata": {
        "colab": {
          "base_uri": "https://localhost:8080/"
        },
        "id": "rhDO4tQXVG5U",
        "outputId": "dfdf407b-4d41-4ebc-8922-e500d5053ab4"
      },
      "outputs": [
        {
          "output_type": "execute_result",
          "data": {
            "text/plain": [
              "0.29471544715447157"
            ]
          },
          "metadata": {},
          "execution_count": 103
        }
      ],
      "source": [
        "df['day'].isnull().sum()/len(df['day'])"
      ]
    },
    {
      "cell_type": "code",
      "execution_count": 104,
      "metadata": {
        "colab": {
          "base_uri": "https://localhost:8080/",
          "height": 296
        },
        "id": "Mef1fBscVuV7",
        "outputId": "a7d1f1a4-80a6-4a31-adc7-2e1ea4b922eb"
      },
      "outputs": [
        {
          "output_type": "execute_result",
          "data": {
            "text/plain": [
              "<matplotlib.axes._subplots.AxesSubplot at 0x7f3b4327a850>"
            ]
          },
          "metadata": {},
          "execution_count": 104
        },
        {
          "output_type": "display_data",
          "data": {
            "text/plain": [
              "<Figure size 432x288 with 1 Axes>"
            ],
            "image/png": "[encoded data removed]"
          },
          "metadata": {
            "needs_background": "light"
          }
        }
      ],
      "source": [
        "sns.countplot(x='day',data=df)"
      ]
    },
    {
      "cell_type": "code",
      "execution_count": 105,
      "metadata": {
        "id": "ZzkBavl8VG1C"
      },
      "outputs": [],
      "source": [
        "df['day'].fillna(value=\"UnKnown\", inplace = True)"
      ]
    },
    {
      "cell_type": "code",
      "execution_count": 106,
      "metadata": {
        "colab": {
          "base_uri": "https://localhost:8080/",
          "height": 296
        },
        "id": "aHQc156CVGsX",
        "outputId": "89580fa5-5fca-4619-dd3c-050362e1fbf9"
      },
      "outputs": [
        {
          "output_type": "execute_result",
          "data": {
            "text/plain": [
              "<matplotlib.axes._subplots.AxesSubplot at 0x7f3b3fc60a60>"
            ]
          },
          "metadata": {},
          "execution_count": 106
        },
        {
          "output_type": "display_data",
          "data": {
            "text/plain": [
              "<Figure size 432x288 with 1 Axes>"
            ],
            "image/png": "[encoded data removed]"
          },
          "metadata": {
            "needs_background": "light"
          }
        }
      ],
      "source": [
        "sns.countplot(x='day',data=df)"
      ]
    },
    {
      "cell_type": "markdown",
      "metadata": {
        "id": "ETYND_ZyYgxs"
      },
      "source": [
        "# **13 - check**\n",
        "> after finish cleaning you should make sure your data is clean and that :\n",
        "- there is no wrong data type\n",
        "- there is no NaN values \n",
        "- all the column are cleaing and ready for the next step `EDA`"
      ]
    },
    {
      "cell_type": "code",
      "source": [
        "df.dtypes"
      ],
      "metadata": {
        "colab": {
          "base_uri": "https://localhost:8080/"
        },
        "id": "z0MxPQqRLeil",
        "outputId": "21796574-b113-44a5-be0e-957b5280f21f"
      },
      "execution_count": 107,
      "outputs": [
        {
          "output_type": "execute_result",
          "data": {
            "text/plain": [
              "going out                    object\n",
              "gender                       object\n",
              "age                           int64\n",
              "Q4: COUNTRY                  object\n",
              "Q6 | 100 Grand Bar           object\n",
              "                             ...   \n",
              "Q7: JOY OTHER                object\n",
              "dress                        object\n",
              "day                          object\n",
              "Q12: MEDIA [Science]        float64\n",
              "Click Coordinates (x, y)     object\n",
              "Length: 112, dtype: object"
            ]
          },
          "metadata": {},
          "execution_count": 107
        }
      ]
    },
    {
      "cell_type": "code",
      "source": [
        "df.drop(['Click Coordinates (x, y)'], axis=1, inplace=True)"
      ],
      "metadata": {
        "id": "vZlwf_dMLeeZ"
      },
      "execution_count": 108,
      "outputs": []
    },
    {
      "cell_type": "code",
      "source": [],
      "metadata": {
        "id": "xKVENnJ88vjm"
      },
      "execution_count": 108,
      "outputs": []
    }
  ],
  "metadata": {
    "colab": {
      "provenance": []
    },
    "kernelspec": {
      "display_name": "Python 3",
      "language": "python",
      "name": "python3"
    },
    "language_info": {
      "codemirror_mode": {
        "name": "ipython",
        "version": 3
      },
      "file_extension": ".py",
      "mimetype": "text/x-python",
      "name": "python",
      "nbconvert_exporter": "python",
      "pygments_lexer": "ipython3",
      "version": "3.7.6"
    }
  },
  "nbformat": 4,
  "nbformat_minor": 0
}